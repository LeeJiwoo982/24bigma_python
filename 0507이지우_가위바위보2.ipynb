{
 "cells": [
  {
   "cell_type": "markdown",
   "id": "e70e0577",
   "metadata": {},
   "source": [
    "# 0507이지우\n",
    "두번해서 두번다이기면 완승, 한번만 이기면 유저1승, 다 지면 완패"
   ]
  },
  {
   "cell_type": "code",
   "execution_count": 1,
   "id": "131ed5ac",
   "metadata": {},
   "outputs": [
    {
     "name": "stdout",
     "output_type": "stream",
     "text": [
      "-------------------------------------------------- \n",
      " 두 번의 가위바위보 게임을 진행하겠습니다~\n",
      "첫번째 경기! 가위~ 바위~ 보~ => 가위\n",
      "두번째 경기! 가위~ 바위~ 보~ => 보\n",
      "당신은 1승을 얻었습니다! 1st Game {You: 가위 , Com: 바위 } 2nd Game {You: 보 ,Com 바위 }\n",
      "--------------------------------------------------\n"
     ]
    }
   ],
   "source": [
    "#두번해서 두번다이기면 완승, 한번만 이기면 유저1승, 다 지면 완패\n",
    "print('-'*50, '\\n 두 번의 가위바위보 게임을 진행하겠습니다~' )\n",
    "user1=input('첫번째 경기! 가위~ 바위~ 보~ => ')\n",
    "\n",
    "import random\n",
    "computer1=random.choice(['가위','바위','보'])\n",
    "\n",
    "if computer1=='가위':\n",
    "    if user1=='가위':\n",
    "        winner1='무승부'\n",
    "    elif user1=='바위':\n",
    "        winner1='유저 승리'\n",
    "    elif user1=='보':\n",
    "        winner1='컴퓨터 승리'\n",
    "    else:\n",
    "        pass\n",
    "        \n",
    "elif computer1=='바위':\n",
    "    if user1=='가위':\n",
    "        winner1='컴퓨터 승리'\n",
    "    elif user1=='바위':\n",
    "        winner1='무승부'\n",
    "    elif user1=='보':\n",
    "        winner1='유저 승리'\n",
    "    else:\n",
    "        pass\n",
    "        \n",
    "else :\n",
    "    if user1=='가위':\n",
    "        winner1='유저 승리'\n",
    "    elif user1=='바위':\n",
    "        winner1='컴퓨터 승리'\n",
    "    elif user1=='보':\n",
    "        winner1='무승부'\n",
    "    else:\n",
    "        pass\n",
    "\n",
    "user2=input('두번째 경기! 가위~ 바위~ 보~ => ')\n",
    "computer2=random.choice(['가위','바위','보'])\n",
    "\n",
    "if computer2=='가위':\n",
    "    if user2=='가위':\n",
    "        winner2='무승부'\n",
    "    elif user2=='바위':\n",
    "        winner2='유저 승리'\n",
    "    elif user2=='보':\n",
    "        winner2='컴퓨터 승리'\n",
    "    else:\n",
    "        pass\n",
    "        \n",
    "elif computer2=='바위':\n",
    "    if user2=='가위':\n",
    "        winner2='컴퓨터 승리'\n",
    "    elif user2=='바위':\n",
    "        winner2='무승부'\n",
    "    elif user2=='보':\n",
    "        winner2='유저 승리'\n",
    "    else:\n",
    "        pass\n",
    "        \n",
    "else :\n",
    "    if user2=='가위':\n",
    "        winner2='유저 승리'\n",
    "    elif user2=='바위':\n",
    "        winner2='컴퓨터 승리'\n",
    "    elif user2=='보':\n",
    "        winner2='무승부'\n",
    "    else:\n",
    "        pass\n",
    "    \n",
    "if winner1=='유저 승리' and winner2=='유저 승리':\n",
    "    print('완승했습니다! 1st Game {You:', user1,', Com:',computer2,'}','2nd Game {You:', user2, ',Com', computer2, '}')\n",
    "elif winner1=='컴퓨터 승리' and winner2=='컴퓨터 승리':\n",
    "    print('완패했습니다! 1st Game {You:', user1,', Com:',computer2,'}','2nd Game {You:', user2, ',Com', computer2, '}')\n",
    "else :\n",
    "    print('당신은 1승을 얻었습니다! 1st Game {You:', user1,', Com:',computer2,'}','2nd Game {You:', user2, ',Com', computer2, '}')\n",
    "    \n",
    "print('-'*50)"
   ]
  },
  {
   "cell_type": "code",
   "execution_count": null,
   "id": "01d4a117",
   "metadata": {},
   "outputs": [],
   "source": []
  }
 ],
 "metadata": {
  "kernelspec": {
   "display_name": "Python 3 (ipykernel)",
   "language": "python",
   "name": "python3"
  },
  "language_info": {
   "codemirror_mode": {
    "name": "ipython",
    "version": 3
   },
   "file_extension": ".py",
   "mimetype": "text/x-python",
   "name": "python",
   "nbconvert_exporter": "python",
   "pygments_lexer": "ipython3",
   "version": "3.11.7"
  }
 },
 "nbformat": 4,
 "nbformat_minor": 5
}
