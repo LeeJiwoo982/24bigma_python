{
 "cells": [
  {
   "cell_type": "code",
   "execution_count": 1,
   "id": "5cbf6620",
   "metadata": {},
   "outputs": [
    {
     "name": "stdout",
     "output_type": "stream",
     "text": [
      "12\n"
     ]
    }
   ],
   "source": [
    "print(5+7)"
   ]
  },
  {
   "cell_type": "code",
   "execution_count": 2,
   "id": "c2241c4a",
   "metadata": {},
   "outputs": [
    {
     "name": "stdout",
     "output_type": "stream",
     "text": [
      "-2\n"
     ]
    }
   ],
   "source": [
    "print(5-7)"
   ]
  },
  {
   "cell_type": "code",
   "execution_count": 4,
   "id": "08839d48",
   "metadata": {},
   "outputs": [
    {
     "name": "stdout",
     "output_type": "stream",
     "text": [
      "안녕파이썬\n"
     ]
    }
   ],
   "source": [
    "print('안녕'+'파이썬')"
   ]
  },
  {
   "cell_type": "code",
   "execution_count": 5,
   "id": "26445a35",
   "metadata": {},
   "outputs": [
    {
     "name": "stdout",
     "output_type": "stream",
     "text": [
      "35\n"
     ]
    }
   ],
   "source": [
    "print(5*7)"
   ]
  },
  {
   "cell_type": "code",
   "execution_count": 6,
   "id": "581615eb",
   "metadata": {},
   "outputs": [
    {
     "name": "stdout",
     "output_type": "stream",
     "text": [
      "안녕안녕안녕안녕\n"
     ]
    }
   ],
   "source": [
    "print('안녕'*4)"
   ]
  },
  {
   "cell_type": "code",
   "execution_count": 9,
   "id": "ae86a5a7",
   "metadata": {},
   "outputs": [
    {
     "name": "stdout",
     "output_type": "stream",
     "text": [
      "안녕파이썬 안녕파이썬 안녕파이썬 안녕파이썬 안녕파이썬 \n"
     ]
    }
   ],
   "source": [
    "print('안녕파이썬 '*5)"
   ]
  },
  {
   "cell_type": "code",
   "execution_count": 12,
   "id": "c6bfd586",
   "metadata": {},
   "outputs": [
    {
     "name": "stdout",
     "output_type": "stream",
     "text": [
      "안녕 안녕 안녕 안녕 안녕  파이썬 파이썬 파이썬 파이썬 파이썬 \n"
     ]
    }
   ],
   "source": [
    "print('안녕 '*5,'파이썬 '*5)"
   ]
  },
  {
   "cell_type": "code",
   "execution_count": 13,
   "id": "5e8abb2b",
   "metadata": {},
   "outputs": [],
   "source": [
    "i=5\n",
    "j=7\n",
    "s='파이썬'"
   ]
  },
  {
   "cell_type": "code",
   "execution_count": 14,
   "id": "3a6f09d2",
   "metadata": {},
   "outputs": [
    {
     "name": "stdout",
     "output_type": "stream",
     "text": [
      "12\n"
     ]
    }
   ],
   "source": [
    "print(i+j)"
   ]
  },
  {
   "cell_type": "code",
   "execution_count": 15,
   "id": "f36c3408",
   "metadata": {},
   "outputs": [
    {
     "name": "stdout",
     "output_type": "stream",
     "text": [
      "7\n"
     ]
    }
   ],
   "source": [
    "print(i+2)"
   ]
  },
  {
   "cell_type": "code",
   "execution_count": 16,
   "id": "56caebdb",
   "metadata": {},
   "outputs": [
    {
     "name": "stdout",
     "output_type": "stream",
     "text": [
      "안녕파이썬\n"
     ]
    }
   ],
   "source": [
    "print('안녕'+s)"
   ]
  },
  {
   "cell_type": "code",
   "execution_count": 23,
   "id": "12d1ab4f",
   "metadata": {},
   "outputs": [
    {
     "name": "stdout",
     "output_type": "stream",
     "text": [
      "-16\n"
     ]
    }
   ],
   "source": [
    "i=i-j\n",
    "print(i)\n",
    "#이 행을 3번 실행하면 i는 계산된 값이 할당되고 그 값이 다시 계산되어 할당됨"
   ]
  },
  {
   "cell_type": "code",
   "execution_count": 18,
   "id": "00b2441f",
   "metadata": {},
   "outputs": [
    {
     "name": "stdout",
     "output_type": "stream",
     "text": [
      "파이썬파이썬파이썬\n"
     ]
    }
   ],
   "source": [
    "s=s*3\n",
    "print(s)"
   ]
  },
  {
   "cell_type": "code",
   "execution_count": 19,
   "id": "c7519d65",
   "metadata": {},
   "outputs": [
    {
     "name": "stdout",
     "output_type": "stream",
     "text": [
      "Python\n"
     ]
    }
   ],
   "source": [
    "s='Python'\n",
    "print(s)"
   ]
  },
  {
   "cell_type": "code",
   "execution_count": 20,
   "id": "befecb61",
   "metadata": {},
   "outputs": [
    {
     "data": {
      "text/plain": [
       "3"
      ]
     },
     "execution_count": 20,
     "metadata": {},
     "output_type": "execute_result"
    }
   ],
   "source": [
    "a=1\n",
    "b=2\n",
    "a+b"
   ]
  },
  {
   "cell_type": "code",
   "execution_count": 21,
   "id": "491e97a4",
   "metadata": {},
   "outputs": [
    {
     "data": {
      "text/plain": [
       "'12'"
      ]
     },
     "execution_count": 21,
     "metadata": {},
     "output_type": "execute_result"
    }
   ],
   "source": [
    "a='1'\n",
    "b='2'\n",
    "a+b"
   ]
  },
  {
   "cell_type": "code",
   "execution_count": 24,
   "id": "aa1dae3f",
   "metadata": {},
   "outputs": [
    {
     "ename": "TypeError",
     "evalue": "unsupported operand type(s) for +: 'int' and 'str'",
     "output_type": "error",
     "traceback": [
      "\u001b[1;31m---------------------------------------------------------------------------\u001b[0m",
      "\u001b[1;31mTypeError\u001b[0m                                 Traceback (most recent call last)",
      "Cell \u001b[1;32mIn[24], line 3\u001b[0m\n\u001b[0;32m      1\u001b[0m a\u001b[38;5;241m=\u001b[39m\u001b[38;5;241m1\u001b[39m\n\u001b[0;32m      2\u001b[0m b\u001b[38;5;241m=\u001b[39m\u001b[38;5;124m'\u001b[39m\u001b[38;5;124m2\u001b[39m\u001b[38;5;124m'\u001b[39m\n\u001b[1;32m----> 3\u001b[0m a\u001b[38;5;241m+\u001b[39mb\n",
      "\u001b[1;31mTypeError\u001b[0m: unsupported operand type(s) for +: 'int' and 'str'"
     ]
    }
   ],
   "source": [
    "a=1\n",
    "b='2'\n",
    "a+b\n",
    "# 다른 자료형의 변수를 연산하게 될 경우, TypeError발생"
   ]
  },
  {
   "cell_type": "code",
   "execution_count": 25,
   "id": "5633a6d1",
   "metadata": {},
   "outputs": [
    {
     "data": {
      "text/plain": [
       "3"
      ]
     },
     "execution_count": 25,
     "metadata": {},
     "output_type": "execute_result"
    }
   ],
   "source": [
    "a=1\n",
    "b='2'\n",
    "a+int(b)"
   ]
  },
  {
   "cell_type": "code",
   "execution_count": 26,
   "id": "0a695a71",
   "metadata": {},
   "outputs": [
    {
     "name": "stdout",
     "output_type": "stream",
     "text": [
      "나이를 입력하세요:27\n"
     ]
    }
   ],
   "source": [
    "age=input('나이를 입력하세요:')"
   ]
  },
  {
   "cell_type": "code",
   "execution_count": 27,
   "id": "6813ee4d",
   "metadata": {},
   "outputs": [
    {
     "data": {
      "text/plain": [
       "28"
      ]
     },
     "execution_count": 27,
     "metadata": {},
     "output_type": "execute_result"
    }
   ],
   "source": [
    "int(age)+1 # int() 생성자를 통해 문자열을 정수로 변환 후 1을 더함"
   ]
  },
  {
   "cell_type": "code",
   "execution_count": 28,
   "id": "aded6e68",
   "metadata": {},
   "outputs": [
    {
     "name": "stdout",
     "output_type": "stream",
     "text": [
      "나이를 입력하세요:27\n"
     ]
    }
   ],
   "source": [
    "# int() 생성자를 사용해서 input함수가 반환한 문자를 바로 정수로 변환한 후 age 할당\n",
    "age=int(input('나이를 입력하세요:'))"
   ]
  },
  {
   "cell_type": "code",
   "execution_count": 30,
   "id": "242ce5e0",
   "metadata": {},
   "outputs": [
    {
     "data": {
      "text/plain": [
       "28"
      ]
     },
     "execution_count": 30,
     "metadata": {},
     "output_type": "execute_result"
    }
   ],
   "source": [
    "age+1"
   ]
  },
  {
   "cell_type": "code",
   "execution_count": 31,
   "id": "30874af2",
   "metadata": {},
   "outputs": [],
   "source": [
    "CITY='파리'"
   ]
  },
  {
   "cell_type": "code",
   "execution_count": 32,
   "id": "45907454",
   "metadata": {},
   "outputs": [],
   "source": [
    "s='들국화'"
   ]
  },
  {
   "cell_type": "code",
   "execution_count": 33,
   "id": "81c5a857",
   "metadata": {},
   "outputs": [],
   "source": [
    "TAX4=0.05"
   ]
  },
  {
   "cell_type": "code",
   "execution_count": 34,
   "id": "54eb8399",
   "metadata": {},
   "outputs": [],
   "source": [
    "first_name='철수'"
   ]
  },
  {
   "cell_type": "code",
   "execution_count": 35,
   "id": "63234731",
   "metadata": {},
   "outputs": [],
   "source": [
    "h_y_u=[1,2,3]"
   ]
  },
  {
   "cell_type": "code",
   "execution_count": 36,
   "id": "3c64608b",
   "metadata": {},
   "outputs": [
    {
     "name": "stdout",
     "output_type": "stream",
     "text": [
      "\n",
      "Here is a list of the Python keywords.  Enter any keyword to get more help.\n",
      "\n",
      "False               class               from                or\n",
      "None                continue            global              pass\n",
      "True                def                 if                  raise\n",
      "and                 del                 import              return\n",
      "as                  elif                in                  try\n",
      "assert              else                is                  while\n",
      "async               except              lambda              with\n",
      "await               finally             nonlocal            yield\n",
      "break               for                 not                 \n",
      "\n"
     ]
    }
   ],
   "source": [
    "help('keywords')"
   ]
  },
  {
   "cell_type": "code",
   "execution_count": 37,
   "id": "83d16e2f",
   "metadata": {},
   "outputs": [
    {
     "name": "stdout",
     "output_type": "stream",
     "text": [
      "abc\n",
      "abc\n",
      "a b c\n",
      "\n",
      "abc\n",
      "abc\n",
      "a b c\n"
     ]
    }
   ],
   "source": [
    "print(\"a\"\"b\"\"c\")\n",
    "print(\"a\"+\"b\"+\"c\")\n",
    "print(\"a\",\"b\",\"c\")\n",
    "print()\n",
    "print('a''b''c')\n",
    "print('a'+'b'+'c')\n",
    "print('a','b','c')"
   ]
  },
  {
   "cell_type": "code",
   "execution_count": 39,
   "id": "6c23cea2",
   "metadata": {},
   "outputs": [
    {
     "name": "stdout",
     "output_type": "stream",
     "text": [
      "안녕하세요? 반갑습니다.\n",
      "고객이 최고다! 고객만족! HU 전자 마켓리서치센터입니다.\n",
      "스마트폰 사용과 구매에 대한 설문조사를 시작하겠습니다.\n"
     ]
    }
   ],
   "source": [
    "print('안녕하세요? 반갑습니다.')\n",
    "print('고객이 최고다! 고객만족! HU 전자 마켓리서치센터입니다.')\n",
    "print('스마트폰 사용과 구매에 대한 설문조사를 시작하겠습니다.')"
   ]
  },
  {
   "cell_type": "code",
   "execution_count": 41,
   "id": "96df6992",
   "metadata": {},
   "outputs": [
    {
     "name": "stdout",
     "output_type": "stream",
     "text": [
      "안녕하세요? 반갑습니다.\n",
      "고객이 최고다!\n",
      "고객만족!\n",
      "HU 전자 마켓리서치센터입니다.\n",
      "스마트폰 사용과 구매에 대한 설문조사를 시작하겠습니다.\n"
     ]
    }
   ],
   "source": [
    "print('''안녕하세요? 반갑습니다.\n",
    "고객이 최고다!\n",
    "고객만족!\n",
    "HU 전자 마켓리서치센터입니다.\n",
    "스마트폰 사용과 구매에 대한 설문조사를 시작하겠습니다.''')"
   ]
  },
  {
   "cell_type": "code",
   "execution_count": 53,
   "id": "a60855e8",
   "metadata": {},
   "outputs": [
    {
     "name": "stdout",
     "output_type": "stream",
     "text": [
      "Python's favorite food is **** \n",
      "  \t\t\t\"perl\"\n"
     ]
    }
   ],
   "source": [
    "food=\"Python's favorite food is **** \\n  \\t\\t\\t\\\"perl\\\"\"\n",
    "print(food)"
   ]
  },
  {
   "cell_type": "code",
   "execution_count": 48,
   "id": "c0202c60",
   "metadata": {},
   "outputs": [
    {
     "data": {
      "text/plain": [
       "'Python favorite food is \"perl\"'"
      ]
     },
     "execution_count": 48,
     "metadata": {},
     "output_type": "execute_result"
    }
   ],
   "source": [
    "food='Python favorite food is \"perl\"'\n",
    "food"
   ]
  },
  {
   "cell_type": "code",
   "execution_count": 54,
   "id": "176d5f56",
   "metadata": {},
   "outputs": [
    {
     "name": "stdout",
     "output_type": "stream",
     "text": [
      "Python favorite food is \\\\perl\\\\\n"
     ]
    }
   ],
   "source": [
    "food='Python favorite food is \\\\\\\\perl\\\\\\\\'\n",
    "print(food)"
   ]
  },
  {
   "cell_type": "code",
   "execution_count": 55,
   "id": "1b4c08f9",
   "metadata": {},
   "outputs": [],
   "source": [
    "name='Jiwoo'\n",
    "age=27\n",
    "weight=50.1\n",
    "height=1.63"
   ]
  },
  {
   "cell_type": "code",
   "execution_count": 57,
   "id": "324ddd4d",
   "metadata": {},
   "outputs": [
    {
     "name": "stdout",
     "output_type": "stream",
     "text": [
      "Jiwoo님의 나이는 27세입니다.\n",
      "몸무게는 50.1kg이고, 키는 1.6미터입니다.\n"
     ]
    }
   ],
   "source": [
    "print('%s님의 나이는 %d세입니다.'%(name, age))\n",
    "print('몸무게는 %.1fkg이고, 키는 %.1f미터입니다.'%(weight, height))"
   ]
  },
  {
   "cell_type": "code",
   "execution_count": 60,
   "id": "c46a5f56",
   "metadata": {},
   "outputs": [
    {
     "name": "stdout",
     "output_type": "stream",
     "text": [
      "숫자입력: 1\n",
      "숫자입력: 3\n",
      "두 수의 합은 4 입니다.\n"
     ]
    }
   ],
   "source": [
    "num1=int(input('숫자입력: '))\n",
    "num2=int(input('숫자입력: '))\n",
    "num3=num1+num2\n",
    "print('두 수의 합은', num3, '입니다.')"
   ]
  },
  {
   "cell_type": "code",
   "execution_count": 61,
   "id": "865b9783",
   "metadata": {},
   "outputs": [
    {
     "name": "stdout",
     "output_type": "stream",
     "text": [
      "강우진의 나이는 23세이고,\n",
      "몸무게는 75.9kg이고, 키는 1.55m입니다.\n"
     ]
    }
   ],
   "source": [
    "name='강우진'\n",
    "age=23\n",
    "weight=75.9\n",
    "height=1.55\n",
    "print(f'{name}의 나이는 {age}세이고,')\n",
    "print(f'몸무게는 {weight}kg이고, 키는 {height}m입니다.')"
   ]
  },
  {
   "cell_type": "code",
   "execution_count": 62,
   "id": "a6de9da7",
   "metadata": {},
   "outputs": [
    {
     "data": {
      "text/plain": [
       "True"
      ]
     },
     "execution_count": 62,
     "metadata": {},
     "output_type": "execute_result"
    }
   ],
   "source": [
    "x=5.0\n",
    "y=5\n",
    "x==y"
   ]
  },
  {
   "cell_type": "code",
   "execution_count": 63,
   "id": "683ce1ba",
   "metadata": {},
   "outputs": [
    {
     "data": {
      "text/plain": [
       "False"
      ]
     },
     "execution_count": 63,
     "metadata": {},
     "output_type": "execute_result"
    }
   ],
   "source": [
    "type(x)==type(y)"
   ]
  },
  {
   "cell_type": "code",
   "execution_count": 64,
   "id": "310987d8",
   "metadata": {},
   "outputs": [
    {
     "data": {
      "text/plain": [
       "float"
      ]
     },
     "execution_count": 64,
     "metadata": {},
     "output_type": "execute_result"
    }
   ],
   "source": [
    "type(x)"
   ]
  },
  {
   "cell_type": "code",
   "execution_count": 66,
   "id": "3c4a7032",
   "metadata": {},
   "outputs": [
    {
     "data": {
      "text/plain": [
       "int"
      ]
     },
     "execution_count": 66,
     "metadata": {},
     "output_type": "execute_result"
    }
   ],
   "source": [
    "type(y)"
   ]
  },
  {
   "cell_type": "code",
   "execution_count": 68,
   "id": "a39e26c2",
   "metadata": {},
   "outputs": [
    {
     "data": {
      "text/plain": [
       "bool"
      ]
     },
     "execution_count": 68,
     "metadata": {},
     "output_type": "execute_result"
    }
   ],
   "source": [
    "x=True\n",
    "type(x)"
   ]
  },
  {
   "cell_type": "code",
   "execution_count": 69,
   "id": "f8386acf",
   "metadata": {},
   "outputs": [
    {
     "data": {
      "text/plain": [
       "bool"
      ]
     },
     "execution_count": 69,
     "metadata": {},
     "output_type": "execute_result"
    }
   ],
   "source": [
    "y=False\n",
    "type(y)"
   ]
  },
  {
   "cell_type": "code",
   "execution_count": 70,
   "id": "5ec5cae1",
   "metadata": {},
   "outputs": [
    {
     "data": {
      "text/plain": [
       "11"
      ]
     },
     "execution_count": 70,
     "metadata": {},
     "output_type": "execute_result"
    }
   ],
   "source": [
    "11-False"
   ]
  },
  {
   "cell_type": "code",
   "execution_count": 71,
   "id": "fdd3fad6",
   "metadata": {},
   "outputs": [
    {
     "data": {
      "text/plain": [
       "12.0"
      ]
     },
     "execution_count": 71,
     "metadata": {},
     "output_type": "execute_result"
    }
   ],
   "source": [
    "11.0+True"
   ]
  },
  {
   "cell_type": "code",
   "execution_count": 72,
   "id": "38b15583",
   "metadata": {},
   "outputs": [
    {
     "data": {
      "text/plain": [
       "0"
      ]
     },
     "execution_count": 72,
     "metadata": {},
     "output_type": "execute_result"
    }
   ],
   "source": [
    "int(False)"
   ]
  },
  {
   "cell_type": "code",
   "execution_count": 73,
   "id": "384180d1",
   "metadata": {},
   "outputs": [
    {
     "data": {
      "text/plain": [
       "1.0"
      ]
     },
     "execution_count": 73,
     "metadata": {},
     "output_type": "execute_result"
    }
   ],
   "source": [
    "float(True)"
   ]
  },
  {
   "cell_type": "code",
   "execution_count": 74,
   "id": "d6114384",
   "metadata": {},
   "outputs": [
    {
     "data": {
      "text/plain": [
       "1"
      ]
     },
     "execution_count": 74,
     "metadata": {},
     "output_type": "execute_result"
    }
   ],
   "source": [
    "int(True)"
   ]
  },
  {
   "cell_type": "code",
   "execution_count": 75,
   "id": "66d42302",
   "metadata": {},
   "outputs": [
    {
     "data": {
      "text/plain": [
       "False"
      ]
     },
     "execution_count": 75,
     "metadata": {},
     "output_type": "execute_result"
    }
   ],
   "source": [
    "bool(False)"
   ]
  },
  {
   "cell_type": "code",
   "execution_count": 76,
   "id": "e6b00c4f",
   "metadata": {},
   "outputs": [
    {
     "data": {
      "text/plain": [
       "False"
      ]
     },
     "execution_count": 76,
     "metadata": {},
     "output_type": "execute_result"
    }
   ],
   "source": [
    "bool(0)"
   ]
  },
  {
   "cell_type": "code",
   "execution_count": 77,
   "id": "1d587d6c",
   "metadata": {},
   "outputs": [
    {
     "data": {
      "text/plain": [
       "True"
      ]
     },
     "execution_count": 77,
     "metadata": {},
     "output_type": "execute_result"
    }
   ],
   "source": [
    "bool(3)"
   ]
  },
  {
   "cell_type": "code",
   "execution_count": 78,
   "id": "505ff5a0",
   "metadata": {},
   "outputs": [
    {
     "data": {
      "text/plain": [
       "False"
      ]
     },
     "execution_count": 78,
     "metadata": {},
     "output_type": "execute_result"
    }
   ],
   "source": [
    "bool(None)"
   ]
  },
  {
   "cell_type": "code",
   "execution_count": 79,
   "id": "71854f03",
   "metadata": {},
   "outputs": [
    {
     "data": {
      "text/plain": [
       "True"
      ]
     },
     "execution_count": 79,
     "metadata": {},
     "output_type": "execute_result"
    }
   ],
   "source": [
    "bool(-1)"
   ]
  },
  {
   "cell_type": "code",
   "execution_count": 80,
   "id": "4cd87e08",
   "metadata": {},
   "outputs": [
    {
     "data": {
      "text/plain": [
       "False"
      ]
     },
     "execution_count": 80,
     "metadata": {},
     "output_type": "execute_result"
    }
   ],
   "source": [
    "bool( )"
   ]
  },
  {
   "cell_type": "code",
   "execution_count": 83,
   "id": "087d16c3",
   "metadata": {},
   "outputs": [
    {
     "data": {
      "text/plain": [
       "False"
      ]
     },
     "execution_count": 83,
     "metadata": {},
     "output_type": "execute_result"
    }
   ],
   "source": [
    "bool([])"
   ]
  },
  {
   "cell_type": "code",
   "execution_count": 82,
   "id": "62dec7f4",
   "metadata": {},
   "outputs": [
    {
     "data": {
      "text/plain": [
       "True"
      ]
     },
     "execution_count": 82,
     "metadata": {},
     "output_type": "execute_result"
    }
   ],
   "source": [
    "bool([1,2])"
   ]
  },
  {
   "cell_type": "code",
   "execution_count": 84,
   "id": "01757aba",
   "metadata": {},
   "outputs": [
    {
     "data": {
      "text/plain": [
       "True"
      ]
     },
     "execution_count": 84,
     "metadata": {},
     "output_type": "execute_result"
    }
   ],
   "source": [
    "bool([0,1])"
   ]
  },
  {
   "cell_type": "code",
   "execution_count": 85,
   "id": "4c38aa08",
   "metadata": {},
   "outputs": [
    {
     "data": {
      "text/plain": [
       "bool"
      ]
     },
     "execution_count": 85,
     "metadata": {},
     "output_type": "execute_result"
    }
   ],
   "source": [
    "x=True\n",
    "type(x)"
   ]
  },
  {
   "cell_type": "code",
   "execution_count": 86,
   "id": "1606fff2",
   "metadata": {},
   "outputs": [
    {
     "data": {
      "text/plain": [
       "bool"
      ]
     },
     "execution_count": 86,
     "metadata": {},
     "output_type": "execute_result"
    }
   ],
   "source": [
    "y=False\n",
    "type(y)"
   ]
  },
  {
   "cell_type": "code",
   "execution_count": 87,
   "id": "706c477b",
   "metadata": {},
   "outputs": [
    {
     "name": "stdout",
     "output_type": "stream",
     "text": [
      "True\n"
     ]
    }
   ],
   "source": [
    "a=14\n",
    "print(10<a)"
   ]
  },
  {
   "cell_type": "code",
   "execution_count": 88,
   "id": "a1129fed",
   "metadata": {},
   "outputs": [
    {
     "name": "stdout",
     "output_type": "stream",
     "text": [
      "False\n"
     ]
    }
   ],
   "source": [
    "print(10>a)"
   ]
  },
  {
   "cell_type": "code",
   "execution_count": 89,
   "id": "b8ac4768",
   "metadata": {},
   "outputs": [
    {
     "name": "stdout",
     "output_type": "stream",
     "text": [
      "False\n",
      "True\n"
     ]
    }
   ],
   "source": [
    "a=200\n",
    "b=100\n",
    "c=150\n",
    "print(a>b and b>c)\n",
    "print(a>b or b>c)"
   ]
  },
  {
   "cell_type": "code",
   "execution_count": 93,
   "id": "18ff7dce",
   "metadata": {},
   "outputs": [
    {
     "name": "stdout",
     "output_type": "stream",
     "text": [
      "숫자넣으시오: 15\n",
      "조건식이 참입니다.\n"
     ]
    }
   ],
   "source": [
    "a=int(input('숫자넣으시오: '))\n",
    "if a>5:\n",
    "    print('조건식이 참입니다.')"
   ]
  },
  {
   "cell_type": "code",
   "execution_count": 94,
   "id": "a65f0e10",
   "metadata": {},
   "outputs": [
    {
     "name": "stdout",
     "output_type": "stream",
     "text": [
      "조건식이 거짓입니다.\n"
     ]
    }
   ],
   "source": [
    "a=15\n",
    "if a>20:\n",
    "    print('조건식이 참입니다.')\n",
    "else:\n",
    "    print('조건식이 거짓입니다.')"
   ]
  },
  {
   "cell_type": "code",
   "execution_count": 98,
   "id": "529cf3e2",
   "metadata": {},
   "outputs": [
    {
     "name": "stdout",
     "output_type": "stream",
     "text": [
      "무조건 거짓입니다. \n",
      "종료합니다.\n"
     ]
    }
   ],
   "source": [
    "if False:\n",
    "    print('무조건 참입니다.', end=' ')\n",
    "else:\n",
    "    print('무조건 거짓입니다.', end=' ')\n",
    "print('\\n종료합니다.')"
   ]
  },
  {
   "cell_type": "code",
   "execution_count": 104,
   "id": "ddc39619",
   "metadata": {},
   "outputs": [
    {
     "name": "stdout",
     "output_type": "stream",
     "text": [
      "무조건 거짓입니다. 종료합니다.\n"
     ]
    }
   ],
   "source": [
    "if False:\n",
    "    print('무조건 참입니다.',end=' ')\n",
    "else:\n",
    "    print('무조건 거짓입니다.',end=' ')#end는 한줄로 표현할 때\n",
    "print('종료합니다.')"
   ]
  },
  {
   "cell_type": "code",
   "execution_count": 96,
   "id": "f26ffaff",
   "metadata": {},
   "outputs": [
    {
     "name": "stdout",
     "output_type": "stream",
     "text": [
      "불합격\n",
      "불합격\n",
      "합격\n",
      "합격\n",
      "합격\n"
     ]
    }
   ],
   "source": [
    "vector=[]\n",
    "vector = [1,2,3,4,5]\n",
    "\n",
    "for score in vector:\n",
    "    if score<3:\n",
    "        print('불합격')\n",
    "    else:\n",
    "        print('합격')"
   ]
  },
  {
   "cell_type": "code",
   "execution_count": 105,
   "id": "09e269d8",
   "metadata": {},
   "outputs": [
    {
     "name": "stdout",
     "output_type": "stream",
     "text": [
      "합격\n",
      "합격\n",
      "합격\n",
      "합격\n",
      "불합격\n",
      "불합격\n"
     ]
    }
   ],
   "source": [
    "score=[]\n",
    "score=[70,89,90,100,50,40]\n",
    "for n in score:\n",
    "    if n>=60:\n",
    "        print('합격')\n",
    "    else :\n",
    "        print('불합격')\n",
    "            "
   ]
  },
  {
   "cell_type": "code",
   "execution_count": 97,
   "id": "22418e8b",
   "metadata": {},
   "outputs": [
    {
     "name": "stdout",
     "output_type": "stream",
     "text": [
      "조건식1과 조건식2 모두 거짓입니다.\n"
     ]
    }
   ],
   "source": [
    "a=10\n",
    "if a>10:\n",
    "    print('조건식1이 참입니다.')\n",
    "elif a<10:\n",
    "    print('조건식1이 거짓이고, 조건식2가 참입니다.')\n",
    "else:\n",
    "    print('조건식1과 조건식2 모두 거짓입니다.')"
   ]
  },
  {
   "cell_type": "code",
   "execution_count": 111,
   "id": "65daad6c",
   "metadata": {},
   "outputs": [
    {
     "name": "stdout",
     "output_type": "stream",
     "text": [
      "합격입니다.\n",
      "합격입니다.\n",
      "합격입니다.\n",
      "합격입니다.\n",
      "\"더 열심히 공부하세요.\"\n",
      "불합격입니다.\n"
     ]
    }
   ],
   "source": [
    "score=[]\n",
    "score=[70,80,90,100,40,50]\n",
    "for n in score:\n",
    "    if n>=60:\n",
    "        print('합격입니다.')\n",
    "    elif 50<=n<60:\n",
    "        print('불합격입니다.')\n",
    "    else:\n",
    "        print('\\\"더 열심히 공부하세요.\\\"')"
   ]
  },
  {
   "cell_type": "code",
   "execution_count": 112,
   "id": "8ab78e73",
   "metadata": {},
   "outputs": [
    {
     "name": "stdout",
     "output_type": "stream",
     "text": [
      "430\n"
     ]
    }
   ],
   "source": [
    "score_sum=sum(score)\n",
    "print(score_sum)"
   ]
  },
  {
   "cell_type": "code",
   "execution_count": 113,
   "id": "d1c1ff2b",
   "metadata": {},
   "outputs": [
    {
     "name": "stdout",
     "output_type": "stream",
     "text": [
      "40\n"
     ]
    }
   ],
   "source": [
    "min_score=min(score)\n",
    "print(min_score)"
   ]
  },
  {
   "cell_type": "code",
   "execution_count": 128,
   "id": "25a686e8",
   "metadata": {},
   "outputs": [
    {
     "name": "stdout",
     "output_type": "stream",
     "text": [
      "71\n",
      "평균은 71.7입니다.\n",
      "평균은 71입니다.\n"
     ]
    }
   ],
   "source": [
    "mean_score=sum(score)/len(score)\n",
    "print(int(mean_score))\n",
    "print('평균은 %.1f입니다.'%(mean_score))\n",
    "print('평균은 %d입니다.'%(mean_score))"
   ]
  },
  {
   "cell_type": "code",
   "execution_count": 123,
   "id": "be7037f8",
   "metadata": {},
   "outputs": [
    {
     "name": "stdout",
     "output_type": "stream",
     "text": [
      "당신의 예상 점수는 몇 점입니까? 25\n",
      "괜찮아\n"
     ]
    }
   ],
   "source": [
    "#우리반 파이썬 점수의 평균은 mean_score입니다. \n",
    "#당신의 예상 점수는 몇 점입니까?\n",
    "#예상점수가 80점 이상이면, \"대단한데요.\"\n",
    "#미만이면 \"괜찮아\"\n",
    "st1_score=int(input('당신의 예상 점수는 몇 점입니까? '))\n",
    "if st1_score >=80:\n",
    "    print('대단한데요.')\n",
    "else:\n",
    "    print('괜찮아')"
   ]
  },
  {
   "cell_type": "code",
   "execution_count": 134,
   "id": "858b9106",
   "metadata": {},
   "outputs": [
    {
     "name": "stdout",
     "output_type": "stream",
     "text": [
      "우리반의 파이썬 점수의 평균은 71입니다.\n",
      "당신의 예상 점수는 몇 점입니까? 58\n",
      "괜찮아!\n"
     ]
    }
   ],
   "source": [
    "print('우리반의 파이썬 점수의 평균은 %d입니다.'%(mean_score))\n",
    "your_score=int(input('당신의 예상 점수는 몇 점입니까? '))\n",
    "\n",
    "if your_score>=80:\n",
    "    print('대단한데요.')\n",
    "else:\n",
    "    print('괜찮아!')"
   ]
  },
  {
   "cell_type": "code",
   "execution_count": 163,
   "id": "27678cfd",
   "metadata": {},
   "outputs": [
    {
     "name": "stdout",
     "output_type": "stream",
     "text": [
      "--------------------------------------------------\n",
      "가위~ 바위~ 보~ 중 하나를 골라주세요! 가위\n",
      "당신이 졌습니다! 컴퓨터가 이겼습니다! You: 가위 , Com: 바위\n",
      "--------------------------------------------------\n"
     ]
    }
   ],
   "source": [
    "###가위바위보\n",
    "print('-'*50)\n",
    "user=input('가위~ 바위~ 보~ 중 하나를 골라주세요! ')\n",
    "\n",
    "import random\n",
    "computer=random.choice(['가위','바위','보'])\n",
    "\n",
    "if computer=='가위':\n",
    "    if user=='가위':\n",
    "        winner='무승부'\n",
    "    elif user=='바위':\n",
    "        winner='유저 승리'\n",
    "    elif user=='보':\n",
    "        winner='컴퓨터 승리'\n",
    "    else:\n",
    "        pass\n",
    "        \n",
    "elif computer=='바위':\n",
    "    if user=='가위':\n",
    "        winner='컴퓨터 승리'\n",
    "    elif user=='바위':\n",
    "        winner='무승부'\n",
    "    elif user=='보':\n",
    "        winner='유저 승리'\n",
    "    else:\n",
    "        pass\n",
    "        \n",
    "else :\n",
    "    if user=='가위':\n",
    "        winner='유저 승리'\n",
    "    elif user=='바위':\n",
    "        winner='컴퓨터 승리'\n",
    "    elif user=='보':\n",
    "        winner='무승부'\n",
    "    else:\n",
    "        pass\n",
    "    \n",
    "if winner=='유저 승리':\n",
    "    print('당신이 이겼습니다! 컴퓨터가 졌습니다! You:', user,', Com:',computer)\n",
    "elif winner=='컴퓨터 승리':\n",
    "    print('당신이 졌습니다! 컴퓨터가 이겼습니다! You:', user, ', Com:', computer)\n",
    "else :\n",
    "    print('무승부! You:', user, ', Com:',computer)\n",
    "    \n",
    "print('-'*50)\n",
    "        "
   ]
  },
  {
   "cell_type": "code",
   "execution_count": 165,
   "id": "50f71822",
   "metadata": {},
   "outputs": [
    {
     "name": "stdout",
     "output_type": "stream",
     "text": [
      "-------------------------------------------------- \n",
      " 두 번의 가위바위보 게임을 진행하겠습니다~\n",
      "첫번째 경기! 가위~ 바위~ 보~ => 보\n",
      "두번째 경기! 가위~ 바위~ 보~ => 가위\n",
      "당신은 1승을 얻었습니다! 1st Game {You: 보 , Com: 가위 } 2nd Game {You: 가위 ,Com 가위 }\n",
      "--------------------------------------------------\n"
     ]
    }
   ],
   "source": [
    "#두번해서 두번다이기면 완승, 한번만 이기면 유저1승, 다 지면 완패\n",
    "print('-'*50, '\\n 두 번의 가위바위보 게임을 진행하겠습니다~' )\n",
    "user1=input('첫번째 경기! 가위~ 바위~ 보~ => ')\n",
    "\n",
    "import random\n",
    "computer1=random.choice(['가위','바위','보'])\n",
    "\n",
    "if computer1=='가위':\n",
    "    if user1=='가위':\n",
    "        winner1='무승부'\n",
    "    elif user1=='바위':\n",
    "        winner1='유저 승리'\n",
    "    elif user1=='보':\n",
    "        winner1='컴퓨터 승리'\n",
    "    else:\n",
    "        pass\n",
    "        \n",
    "elif computer1=='바위':\n",
    "    if user1=='가위':\n",
    "        winner1='컴퓨터 승리'\n",
    "    elif user1=='바위':\n",
    "        winner1='무승부'\n",
    "    elif user1=='보':\n",
    "        winner1='유저 승리'\n",
    "    else:\n",
    "        pass\n",
    "        \n",
    "else :\n",
    "    if user1=='가위':\n",
    "        winner1='유저 승리'\n",
    "    elif user1=='바위':\n",
    "        winner1='컴퓨터 승리'\n",
    "    elif user1=='보':\n",
    "        winner1='무승부'\n",
    "    else:\n",
    "        pass\n",
    "\n",
    "user2=input('두번째 경기! 가위~ 바위~ 보~ => ')\n",
    "computer2=random.choice(['가위','바위','보'])\n",
    "\n",
    "if computer2=='가위':\n",
    "    if user2=='가위':\n",
    "        winner2='무승부'\n",
    "    elif user2=='바위':\n",
    "        winner2='유저 승리'\n",
    "    elif user2=='보':\n",
    "        winner2='컴퓨터 승리'\n",
    "    else:\n",
    "        pass\n",
    "        \n",
    "elif computer2=='바위':\n",
    "    if user2=='가위':\n",
    "        winner2='컴퓨터 승리'\n",
    "    elif user2=='바위':\n",
    "        winner2='무승부'\n",
    "    elif user2=='보':\n",
    "        winner2='유저 승리'\n",
    "    else:\n",
    "        pass\n",
    "        \n",
    "else :\n",
    "    if user2=='가위':\n",
    "        winner2='유저 승리'\n",
    "    elif user2=='바위':\n",
    "        winner2='컴퓨터 승리'\n",
    "    elif user2=='보':\n",
    "        winner2='무승부'\n",
    "    else:\n",
    "        pass\n",
    "    \n",
    "if winner1=='유저 승리' and winner2=='유저 승리':\n",
    "    print('완승했습니다! 1st Game {You:', user1,', Com:',computer2,'}','2nd Game {You:', user2, ',Com', computer2, '}')\n",
    "elif winner1=='컴퓨터 승리' and winner2=='컴퓨터 승리':\n",
    "    print('완패했습니다! 1st Game {You:', user1,', Com:',computer2,'}','2nd Game {You:', user2, ',Com', computer2, '}')\n",
    "else :\n",
    "    print('당신은 1승을 얻었습니다! 1st Game {You:', user1,', Com:',computer2,'}','2nd Game {You:', user2, ',Com', computer2, '}')\n",
    "    \n",
    "print('-'*50)"
   ]
  },
  {
   "cell_type": "code",
   "execution_count": null,
   "id": "aafae77a",
   "metadata": {},
   "outputs": [],
   "source": []
  }
 ],
 "metadata": {
  "kernelspec": {
   "display_name": "Python 3 (ipykernel)",
   "language": "python",
   "name": "python3"
  },
  "language_info": {
   "codemirror_mode": {
    "name": "ipython",
    "version": 3
   },
   "file_extension": ".py",
   "mimetype": "text/x-python",
   "name": "python",
   "nbconvert_exporter": "python",
   "pygments_lexer": "ipython3",
   "version": "3.11.7"
  }
 },
 "nbformat": 4,
 "nbformat_minor": 5
}
