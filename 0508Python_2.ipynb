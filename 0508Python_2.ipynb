{
 "cells": [
  {
   "cell_type": "markdown",
   "id": "ecf42349-300b-42ac-80a9-3c3e4160fb70",
   "metadata": {
    "jp-MarkdownHeadingCollapsed": true,
    "tags": []
   },
   "source": [
    "## 모듈module\n",
    "파이썬의 내장/외장함수\n",
    "print, input, len\n",
    "/random, matplotlib\n",
    "외장함수 또는 클래스를 담은 파이썬 파일"
   ]
  },
  {
   "cell_type": "markdown",
   "id": "04ca319c-5834-4444-9e4d-b9a774e25253",
   "metadata": {},
   "source": [
    "x=len('파이썬')\n",
    "변수=함수(객체)"
   ]
  },
  {
   "cell_type": "code",
   "execution_count": 3,
   "id": "2835f58e-435d-4229-b748-cb2e94513378",
   "metadata": {
    "tags": []
   },
   "outputs": [
    {
     "data": {
      "text/plain": [
       "3"
      ]
     },
     "execution_count": 3,
     "metadata": {},
     "output_type": "execute_result"
    }
   ],
   "source": [
    "length=len('파이썬')\n",
    "length"
   ]
  },
  {
   "cell_type": "markdown",
   "id": "b505a093-4b69-4c97-bb7e-b249063da8e3",
   "metadata": {
    "jp-MarkdownHeadingCollapsed": true,
    "tags": []
   },
   "source": [
    "## 사용자 정의 함수\n",
    "def 함수이름(변수):\n",
    "함수이름을 선언하고 어떤 값을 넣을지를 선언.\n",
    "함수 내용은 밑에\n",
    "return 객체 #선택사항 그러나 넣으면 좋다"
   ]
  },
  {
   "cell_type": "code",
   "execution_count": 6,
   "id": "9926fb5f-f450-4ba4-b4b4-59839366e570",
   "metadata": {
    "tags": []
   },
   "outputs": [
    {
     "name": "stdout",
     "output_type": "stream",
     "text": [
      "안녕 파이썬\n"
     ]
    }
   ],
   "source": [
    "def say_anything(anything):\n",
    "    print('안녕',anything)\n",
    "    \n",
    "say_anything('파이썬')"
   ]
  },
  {
   "cell_type": "markdown",
   "id": "bf84fd6f-7736-4272-8384-a237f32181b6",
   "metadata": {},
   "source": [
    "## 클래스 class\n",
    "객체들의 속성attribute 정의 \n",
    "금요일에 정리 요청"
   ]
  },
  {
   "cell_type": "markdown",
   "id": "3379266f-cf20-4c62-9ea9-ee7130c0b14b",
   "metadata": {
    "jp-MarkdownHeadingCollapsed": true,
    "tags": []
   },
   "source": [
    "## 모듈\n",
    "import 모듈\n",
    "#모듈 안의 전체 함수 불러오기. 사용예) 모듈.함수()\n",
    "\n",
    "from 모듈 import 함수\n",
    "#모듈 안의 함수 특정해서 가져오기. 사용예) 함수()\n"
   ]
  },
  {
   "cell_type": "code",
   "execution_count": 10,
   "id": "fac91335-3b26-4782-8f50-ef4723180ae3",
   "metadata": {
    "tags": []
   },
   "outputs": [
    {
     "data": {
      "text/plain": [
       "3.141592653589793"
      ]
     },
     "execution_count": 10,
     "metadata": {},
     "output_type": "execute_result"
    }
   ],
   "source": [
    "from math import pi\n",
    "pi"
   ]
  },
  {
   "cell_type": "code",
   "execution_count": 14,
   "id": "bb666553-770e-4465-be84-b15be7da20da",
   "metadata": {
    "collapsed": true,
    "jupyter": {
     "outputs_hidden": true
    },
    "tags": []
   },
   "outputs": [
    {
     "data": {
      "text/plain": [
       "['__doc__',\n",
       " '__loader__',\n",
       " '__name__',\n",
       " '__package__',\n",
       " '__spec__',\n",
       " 'acos',\n",
       " 'acosh',\n",
       " 'asin',\n",
       " 'asinh',\n",
       " 'atan',\n",
       " 'atan2',\n",
       " 'atanh',\n",
       " 'cbrt',\n",
       " 'ceil',\n",
       " 'comb',\n",
       " 'copysign',\n",
       " 'cos',\n",
       " 'cosh',\n",
       " 'degrees',\n",
       " 'dist',\n",
       " 'e',\n",
       " 'erf',\n",
       " 'erfc',\n",
       " 'exp',\n",
       " 'exp2',\n",
       " 'expm1',\n",
       " 'fabs',\n",
       " 'factorial',\n",
       " 'floor',\n",
       " 'fmod',\n",
       " 'frexp',\n",
       " 'fsum',\n",
       " 'gamma',\n",
       " 'gcd',\n",
       " 'hypot',\n",
       " 'inf',\n",
       " 'isclose',\n",
       " 'isfinite',\n",
       " 'isinf',\n",
       " 'isnan',\n",
       " 'isqrt',\n",
       " 'lcm',\n",
       " 'ldexp',\n",
       " 'lgamma',\n",
       " 'log',\n",
       " 'log10',\n",
       " 'log1p',\n",
       " 'log2',\n",
       " 'modf',\n",
       " 'nan',\n",
       " 'nextafter',\n",
       " 'perm',\n",
       " 'pi',\n",
       " 'pow',\n",
       " 'prod',\n",
       " 'radians',\n",
       " 'remainder',\n",
       " 'sin',\n",
       " 'sinh',\n",
       " 'sqrt',\n",
       " 'tan',\n",
       " 'tanh',\n",
       " 'tau',\n",
       " 'trunc',\n",
       " 'ulp']"
      ]
     },
     "execution_count": 14,
     "metadata": {},
     "output_type": "execute_result"
    }
   ],
   "source": [
    "import math\n",
    "dir(math)\n",
    "#모듈의 함수목록확인"
   ]
  },
  {
   "cell_type": "code",
   "execution_count": 18,
   "id": "43e77239-119e-4382-87ea-17e9359c36d8",
   "metadata": {
    "collapsed": true,
    "jupyter": {
     "outputs_hidden": true
    },
    "tags": []
   },
   "outputs": [
    {
     "name": "stdout",
     "output_type": "stream",
     "text": [
      "Help on float object:\n",
      "\n",
      "class float(object)\n",
      " |  float(x=0, /)\n",
      " |  \n",
      " |  Convert a string or number to a floating point number, if possible.\n",
      " |  \n",
      " |  Methods defined here:\n",
      " |  \n",
      " |  __abs__(self, /)\n",
      " |      abs(self)\n",
      " |  \n",
      " |  __add__(self, value, /)\n",
      " |      Return self+value.\n",
      " |  \n",
      " |  __bool__(self, /)\n",
      " |      True if self else False\n",
      " |  \n",
      " |  __ceil__(self, /)\n",
      " |      Return the ceiling as an Integral.\n",
      " |  \n",
      " |  __divmod__(self, value, /)\n",
      " |      Return divmod(self, value).\n",
      " |  \n",
      " |  __eq__(self, value, /)\n",
      " |      Return self==value.\n",
      " |  \n",
      " |  __float__(self, /)\n",
      " |      float(self)\n",
      " |  \n",
      " |  __floor__(self, /)\n",
      " |      Return the floor as an Integral.\n",
      " |  \n",
      " |  __floordiv__(self, value, /)\n",
      " |      Return self//value.\n",
      " |  \n",
      " |  __format__(self, format_spec, /)\n",
      " |      Formats the float according to format_spec.\n",
      " |  \n",
      " |  __ge__(self, value, /)\n",
      " |      Return self>=value.\n",
      " |  \n",
      " |  __getattribute__(self, name, /)\n",
      " |      Return getattr(self, name).\n",
      " |  \n",
      " |  __getnewargs__(self, /)\n",
      " |  \n",
      " |  __gt__(self, value, /)\n",
      " |      Return self>value.\n",
      " |  \n",
      " |  __hash__(self, /)\n",
      " |      Return hash(self).\n",
      " |  \n",
      " |  __int__(self, /)\n",
      " |      int(self)\n",
      " |  \n",
      " |  __le__(self, value, /)\n",
      " |      Return self<=value.\n",
      " |  \n",
      " |  __lt__(self, value, /)\n",
      " |      Return self<value.\n",
      " |  \n",
      " |  __mod__(self, value, /)\n",
      " |      Return self%value.\n",
      " |  \n",
      " |  __mul__(self, value, /)\n",
      " |      Return self*value.\n",
      " |  \n",
      " |  __ne__(self, value, /)\n",
      " |      Return self!=value.\n",
      " |  \n",
      " |  __neg__(self, /)\n",
      " |      -self\n",
      " |  \n",
      " |  __pos__(self, /)\n",
      " |      +self\n",
      " |  \n",
      " |  __pow__(self, value, mod=None, /)\n",
      " |      Return pow(self, value, mod).\n",
      " |  \n",
      " |  __radd__(self, value, /)\n",
      " |      Return value+self.\n",
      " |  \n",
      " |  __rdivmod__(self, value, /)\n",
      " |      Return divmod(value, self).\n",
      " |  \n",
      " |  __repr__(self, /)\n",
      " |      Return repr(self).\n",
      " |  \n",
      " |  __rfloordiv__(self, value, /)\n",
      " |      Return value//self.\n",
      " |  \n",
      " |  __rmod__(self, value, /)\n",
      " |      Return value%self.\n",
      " |  \n",
      " |  __rmul__(self, value, /)\n",
      " |      Return value*self.\n",
      " |  \n",
      " |  __round__(self, ndigits=None, /)\n",
      " |      Return the Integral closest to x, rounding half toward even.\n",
      " |      \n",
      " |      When an argument is passed, work like built-in round(x, ndigits).\n",
      " |  \n",
      " |  __rpow__(self, value, mod=None, /)\n",
      " |      Return pow(value, self, mod).\n",
      " |  \n",
      " |  __rsub__(self, value, /)\n",
      " |      Return value-self.\n",
      " |  \n",
      " |  __rtruediv__(self, value, /)\n",
      " |      Return value/self.\n",
      " |  \n",
      " |  __sub__(self, value, /)\n",
      " |      Return self-value.\n",
      " |  \n",
      " |  __truediv__(self, value, /)\n",
      " |      Return self/value.\n",
      " |  \n",
      " |  __trunc__(self, /)\n",
      " |      Return the Integral closest to x between 0 and x.\n",
      " |  \n",
      " |  as_integer_ratio(self, /)\n",
      " |      Return integer ratio.\n",
      " |      \n",
      " |      Return a pair of integers, whose ratio is exactly equal to the original float\n",
      " |      and with a positive denominator.\n",
      " |      \n",
      " |      Raise OverflowError on infinities and a ValueError on NaNs.\n",
      " |      \n",
      " |      >>> (10.0).as_integer_ratio()\n",
      " |      (10, 1)\n",
      " |      >>> (0.0).as_integer_ratio()\n",
      " |      (0, 1)\n",
      " |      >>> (-.25).as_integer_ratio()\n",
      " |      (-1, 4)\n",
      " |  \n",
      " |  conjugate(self, /)\n",
      " |      Return self, the complex conjugate of any float.\n",
      " |  \n",
      " |  hex(self, /)\n",
      " |      Return a hexadecimal representation of a floating-point number.\n",
      " |      \n",
      " |      >>> (-0.1).hex()\n",
      " |      '-0x1.999999999999ap-4'\n",
      " |      >>> 3.14159.hex()\n",
      " |      '0x1.921f9f01b866ep+1'\n",
      " |  \n",
      " |  is_integer(self, /)\n",
      " |      Return True if the float is an integer.\n",
      " |  \n",
      " |  ----------------------------------------------------------------------\n",
      " |  Class methods defined here:\n",
      " |  \n",
      " |  __getformat__(typestr, /) from builtins.type\n",
      " |      You probably don't want to use this function.\n",
      " |      \n",
      " |        typestr\n",
      " |          Must be 'double' or 'float'.\n",
      " |      \n",
      " |      It exists mainly to be used in Python's test suite.\n",
      " |      \n",
      " |      This function returns whichever of 'unknown', 'IEEE, big-endian' or 'IEEE,\n",
      " |      little-endian' best describes the format of floating point numbers used by the\n",
      " |      C type named by typestr.\n",
      " |  \n",
      " |  fromhex(string, /) from builtins.type\n",
      " |      Create a floating-point number from a hexadecimal string.\n",
      " |      \n",
      " |      >>> float.fromhex('0x1.ffffp10')\n",
      " |      2047.984375\n",
      " |      >>> float.fromhex('-0x1p-1074')\n",
      " |      -5e-324\n",
      " |  \n",
      " |  ----------------------------------------------------------------------\n",
      " |  Static methods defined here:\n",
      " |  \n",
      " |  __new__(*args, **kwargs) from builtins.type\n",
      " |      Create and return a new object.  See help(type) for accurate signature.\n",
      " |  \n",
      " |  ----------------------------------------------------------------------\n",
      " |  Data descriptors defined here:\n",
      " |  \n",
      " |  imag\n",
      " |      the imaginary part of a complex number\n",
      " |  \n",
      " |  real\n",
      " |      the real part of a complex number\n",
      "\n"
     ]
    }
   ],
   "source": [
    "help(math.pi)\n",
    "#함수 설명"
   ]
  },
  {
   "cell_type": "code",
   "execution_count": 20,
   "id": "48acc1cd-c481-4c9a-a443-3c629aa1e45b",
   "metadata": {
    "tags": []
   },
   "outputs": [],
   "source": [
    "from math import factorial, exp, log, sqrt"
   ]
  },
  {
   "cell_type": "markdown",
   "id": "d726b81a-c946-48d9-855a-70f81700fe86",
   "metadata": {},
   "source": [
    "## 순환문\n",
    "while"
   ]
  },
  {
   "cell_type": "code",
   "execution_count": 27,
   "id": "40b35d4d-a43e-48fb-9c2b-08be0f06123a",
   "metadata": {
    "tags": []
   },
   "outputs": [
    {
     "name": "stdout",
     "output_type": "stream",
     "text": [
      "순환문연습 1\n",
      "순환문연습 2\n",
      "순환문연습 3\n",
      "순환문연습 4\n",
      "순환문연습 5\n"
     ]
    }
   ],
   "source": [
    "x=0\n",
    "while x<5:\n",
    "    print('순환문연습', x+1)\n",
    "    x+=1"
   ]
  },
  {
   "cell_type": "code",
   "execution_count": 35,
   "id": "acf2724e-407e-438b-9380-6e4223d3a7fc",
   "metadata": {
    "tags": []
   },
   "outputs": [
    {
     "name": "stdout",
     "output_type": "stream",
     "text": [
      "1부터 10까지 합은 55입니다.\n"
     ]
    }
   ],
   "source": [
    "total=0\n",
    "i=0\n",
    "while i<10:\n",
    "    i+=1\n",
    "    total=total+i\n",
    "else:\n",
    "    print('1부터 10까지 합은 %d입니다.'%(total))\n",
    "    "
   ]
  },
  {
   "cell_type": "code",
   "execution_count": 42,
   "id": "b90b9c4a-e335-4e93-9824-89982bffd641",
   "metadata": {
    "tags": []
   },
   "outputs": [
    {
     "name": "stdout",
     "output_type": "stream",
     "text": [
      "리스트에 들어 있는 숫자의 합은 55입니다.\n"
     ]
    }
   ],
   "source": [
    "integers=[2,8,3,5,10,27]\n",
    "total=0\n",
    "i=0\n",
    "\n",
    "while i<len(integers):\n",
    "    total=total+integers[i]\n",
    "    i = i + 1\n",
    "print('리스트에 들어 있는 숫자의 합은 %d입니다.'%(total))"
   ]
  },
  {
   "cell_type": "code",
   "execution_count": 40,
   "id": "8a2beecb-d0b2-4581-a684-8517efcb3a76",
   "metadata": {
    "tags": []
   },
   "outputs": [
    {
     "name": "stdout",
     "output_type": "stream",
     "text": [
      "22026.465794806718\n"
     ]
    }
   ],
   "source": [
    "#1-1\n",
    "import math\n",
    "x=10\n",
    "print(math.exp(x))"
   ]
  },
  {
   "cell_type": "code",
   "execution_count": 44,
   "id": "43161c63-fbc5-4317-92e9-7f981d4a791c",
   "metadata": {
    "tags": []
   },
   "outputs": [
    {
     "data": {
      "text/plain": [
       "22026.465794806718"
      ]
     },
     "execution_count": 44,
     "metadata": {},
     "output_type": "execute_result"
    }
   ],
   "source": [
    "#2\n",
    "from math import exp\n",
    "exp(10)"
   ]
  },
  {
   "cell_type": "code",
   "execution_count": 46,
   "id": "46500abe-4a39-449e-a18b-9d139151e45a",
   "metadata": {
    "tags": []
   },
   "outputs": [
    {
     "name": "stdout",
     "output_type": "stream",
     "text": [
      "1\n"
     ]
    }
   ],
   "source": [
    "import random\n",
    "a=random.randint(-10,10)\n",
    "print(a)"
   ]
  },
  {
   "cell_type": "code",
   "execution_count": 50,
   "id": "c293f315-4715-4d45-8813-85eb547f4a37",
   "metadata": {
    "collapsed": true,
    "jupyter": {
     "outputs_hidden": true
    },
    "tags": []
   },
   "outputs": [
    {
     "ename": "KeyboardInterrupt",
     "evalue": "Interrupted by user",
     "output_type": "error",
     "traceback": [
      "\u001b[1;31m---------------------------------------------------------------------------\u001b[0m",
      "\u001b[1;31mKeyboardInterrupt\u001b[0m                         Traceback (most recent call last)",
      "Cell \u001b[1;32mIn[50], line 2\u001b[0m\n\u001b[0;32m      1\u001b[0m \u001b[38;5;66;03m#lower()대문자>소문자로 바꾸는 함수\u001b[39;00m\n\u001b[1;32m----> 2\u001b[0m text\u001b[38;5;241m=\u001b[39m\u001b[38;5;28minput\u001b[39m(\u001b[38;5;124m'\u001b[39m\u001b[38;5;124m5자리 이내의 문자열을 입력하세요:\u001b[39m\u001b[38;5;124m'\u001b[39m)\n\u001b[0;32m      3\u001b[0m v\u001b[38;5;241m=\u001b[39m[a,i,o,u,e]\n\u001b[0;32m      4\u001b[0m \u001b[38;5;28;01mfor\u001b[39;00m i \u001b[38;5;129;01min\u001b[39;00m v:\n",
      "File \u001b[1;32m~\\anaconda3\\Lib\\site-packages\\ipykernel\\kernelbase.py:1262\u001b[0m, in \u001b[0;36mKernel.raw_input\u001b[1;34m(self, prompt)\u001b[0m\n\u001b[0;32m   1260\u001b[0m     msg \u001b[38;5;241m=\u001b[39m \u001b[38;5;124m\"\u001b[39m\u001b[38;5;124mraw_input was called, but this frontend does not support input requests.\u001b[39m\u001b[38;5;124m\"\u001b[39m\n\u001b[0;32m   1261\u001b[0m     \u001b[38;5;28;01mraise\u001b[39;00m StdinNotImplementedError(msg)\n\u001b[1;32m-> 1262\u001b[0m \u001b[38;5;28;01mreturn\u001b[39;00m \u001b[38;5;28mself\u001b[39m\u001b[38;5;241m.\u001b[39m_input_request(\n\u001b[0;32m   1263\u001b[0m     \u001b[38;5;28mstr\u001b[39m(prompt),\n\u001b[0;32m   1264\u001b[0m     \u001b[38;5;28mself\u001b[39m\u001b[38;5;241m.\u001b[39m_parent_ident[\u001b[38;5;124m\"\u001b[39m\u001b[38;5;124mshell\u001b[39m\u001b[38;5;124m\"\u001b[39m],\n\u001b[0;32m   1265\u001b[0m     \u001b[38;5;28mself\u001b[39m\u001b[38;5;241m.\u001b[39mget_parent(\u001b[38;5;124m\"\u001b[39m\u001b[38;5;124mshell\u001b[39m\u001b[38;5;124m\"\u001b[39m),\n\u001b[0;32m   1266\u001b[0m     password\u001b[38;5;241m=\u001b[39m\u001b[38;5;28;01mFalse\u001b[39;00m,\n\u001b[0;32m   1267\u001b[0m )\n",
      "File \u001b[1;32m~\\anaconda3\\Lib\\site-packages\\ipykernel\\kernelbase.py:1305\u001b[0m, in \u001b[0;36mKernel._input_request\u001b[1;34m(self, prompt, ident, parent, password)\u001b[0m\n\u001b[0;32m   1302\u001b[0m \u001b[38;5;28;01mexcept\u001b[39;00m \u001b[38;5;167;01mKeyboardInterrupt\u001b[39;00m:\n\u001b[0;32m   1303\u001b[0m     \u001b[38;5;66;03m# re-raise KeyboardInterrupt, to truncate traceback\u001b[39;00m\n\u001b[0;32m   1304\u001b[0m     msg \u001b[38;5;241m=\u001b[39m \u001b[38;5;124m\"\u001b[39m\u001b[38;5;124mInterrupted by user\u001b[39m\u001b[38;5;124m\"\u001b[39m\n\u001b[1;32m-> 1305\u001b[0m     \u001b[38;5;28;01mraise\u001b[39;00m \u001b[38;5;167;01mKeyboardInterrupt\u001b[39;00m(msg) \u001b[38;5;28;01mfrom\u001b[39;00m \u001b[38;5;28;01mNone\u001b[39;00m\n\u001b[0;32m   1306\u001b[0m \u001b[38;5;28;01mexcept\u001b[39;00m \u001b[38;5;167;01mException\u001b[39;00m:\n\u001b[0;32m   1307\u001b[0m     \u001b[38;5;28mself\u001b[39m\u001b[38;5;241m.\u001b[39mlog\u001b[38;5;241m.\u001b[39mwarning(\u001b[38;5;124m\"\u001b[39m\u001b[38;5;124mInvalid Message:\u001b[39m\u001b[38;5;124m\"\u001b[39m, exc_info\u001b[38;5;241m=\u001b[39m\u001b[38;5;28;01mTrue\u001b[39;00m)\n",
      "\u001b[1;31mKeyboardInterrupt\u001b[0m: Interrupted by user"
     ]
    }
   ],
   "source": [
    "#lower()대문자>소문자로 바꾸는 함수\n",
    "text=input('5자리 이내의 문자열을 입력하세요:')\n",
    "v=[a,i,o,u,e]\n",
    "for i in v:\n",
    "    if text[0] == i:\n",
    "        print('입력한 문자열은',text,'이고, 첫째 자리는 모음으로 시작합니다.')\n",
    "    else:\n",
    "        print('입력한 문자열은',text,'이고, 첫째 자리는 자음으로 시작합니다.')"
   ]
  },
  {
   "cell_type": "code",
   "execution_count": null,
   "id": "57cf1ace-fb05-451c-ab3c-fa76d1b5100f",
   "metadata": {},
   "outputs": [],
   "source": [
    "#맨 마지막 문자가 자음모음인지 확인\n"
   ]
  },
  {
   "cell_type": "code",
   "execution_count": 54,
   "id": "610edf88-f850-43d2-a7f7-6752c4c52184",
   "metadata": {
    "tags": []
   },
   "outputs": [
    {
     "name": "stdin",
     "output_type": "stream",
     "text": [
      "문자열 입력하시오: python\n"
     ]
    },
    {
     "name": "stdout",
     "output_type": "stream",
     "text": [
      "입력한 문자열은 python 이고, 첫째 자리는 자음 으로 시작합니다.\n"
     ]
    }
   ],
   "source": [
    "text=input('문자열 입력하시오:').lower()\n",
    "if text[0]=='a' or text[0]=='e' or text[0]=='i' or text[0]=='o' or text[0]=='u':\n",
    "    text1='모음'\n",
    "else:\n",
    "    text1='자음'\n",
    "print('입력한 문자열은',text,'이고, 첫째 자리는', text1,'으로 시작합니다.')"
   ]
  },
  {
   "cell_type": "code",
   "execution_count": 60,
   "id": "115f2729-2e6c-4514-b60c-cdd8a3664050",
   "metadata": {
    "tags": []
   },
   "outputs": [
    {
     "name": "stdin",
     "output_type": "stream",
     "text": [
      "문자열 입력하시오: shdofhsdf\n"
     ]
    },
    {
     "name": "stdout",
     "output_type": "stream",
     "text": [
      "입력한 문자열은 shdofhsdf 이고, 첫째 자리는 자음 으로 시작하고, 마지막 자리는 자음 입니다.\n"
     ]
    }
   ],
   "source": [
    "text=input('문자열 입력하시오:').lower()\n",
    "\n",
    "last_text=len(text)-1\n",
    "\n",
    "if text[0]=='a' or text[0]=='e' or text[0]=='i' or text[0]=='o' or text[0]=='u':\n",
    "    text1='모음'\n",
    "else:\n",
    "    text1='자음'\n",
    "    \n",
    "if text[last_text]=='a' or text[last_text]=='e' or text[last_text]=='i' or text[last_text]=='o' or text[last_text]=='u':\n",
    "    text2='모음'\n",
    "else:\n",
    "    text2='자음'\n",
    "    \n",
    "print('입력한 문자열은',text,'이고, 첫째 자리는', text1,'으로 시작하고, 마지막 자리는',text2,'입니다.')"
   ]
  },
  {
   "cell_type": "markdown",
   "id": "c2f3f59b-3492-4a0a-9e40-30fcafaa6705",
   "metadata": {},
   "source": [
    "### 5자리 이내 문자열만 입력하도록"
   ]
  },
  {
   "cell_type": "code",
   "execution_count": null,
   "id": "09332af9-0296-4202-8c40-60e2bb4330cd",
   "metadata": {},
   "outputs": [],
   "source": [
    "text=input('문자열 입력하시오:').lower()\n",
    "\n",
    "last_text=len(text)-1\n",
    "while len(text)<=0:\n",
    "    if text[0]=='a' or text[0]=='e' or text[0]=='i' or text[0]=='o' or text[0]=='u':\n",
    "        text1='모음'\n",
    "    else:\n",
    "        text1='자음'\n",
    "\n",
    "    if text[last_text]=='a' or text[last_text]=='e' or text[last_text]=='i' or text[last_text]=='o' or text[last_text]=='u':\n",
    "        text2='모음'\n",
    "    else:\n",
    "        text2='자음'\n",
    "else:\n",
    "    text=input('5자 이내 문자를 입력하시오:').lower()\n",
    "    \n",
    "print('입력한 문자열은',text,'이고, 첫째 자리는', text1,'으로 시작하고, 마지막 자리는',text2,'입니다.')"
   ]
  }
 ],
 "metadata": {
  "kernelspec": {
   "display_name": "Python 3 (ipykernel)",
   "language": "python",
   "name": "python3"
  },
  "language_info": {
   "codemirror_mode": {
    "name": "ipython",
    "version": 3
   },
   "file_extension": ".py",
   "mimetype": "text/x-python",
   "name": "python",
   "nbconvert_exporter": "python",
   "pygments_lexer": "ipython3",
   "version": "3.11.7"
  }
 },
 "nbformat": 4,
 "nbformat_minor": 5
}
