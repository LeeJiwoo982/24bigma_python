{
 "cells": [
  {
   "cell_type": "code",
   "execution_count": null,
   "id": "d320dc9a-fbe2-431f-bf6f-43790182c96c",
   "metadata": {},
   "outputs": [],
   "source": [
    "#과제1\n",
    "# *********\n",
    "#  *******\n",
    "#   *****\n",
    "#    ***\n",
    "#     *   \n",
    "#    ***    \n",
    "#   *****   \n",
    "#  *******  \n",
    "# ********* \n"
   ]
  },
  {
   "cell_type": "code",
   "execution_count": null,
   "id": "b10911cc-87d6-4b86-aba3-bff1c7031061",
   "metadata": {},
   "outputs": [],
   "source": [
    "#과제2\n",
    "*****\n",
    "*****\n",
    "*****\n",
    "*****\n"
   ]
  },
  {
   "cell_type": "code",
   "execution_count": null,
   "id": "5ec199a9-88a2-4364-bdad-435f61de6f07",
   "metadata": {},
   "outputs": [],
   "source": []
  }
 ],
 "metadata": {
  "kernelspec": {
   "display_name": "Python 3 (ipykernel)",
   "language": "python",
   "name": "python3"
  },
  "language_info": {
   "codemirror_mode": {
    "name": "ipython",
    "version": 3
   },
   "file_extension": ".py",
   "mimetype": "text/x-python",
   "name": "python",
   "nbconvert_exporter": "python",
   "pygments_lexer": "ipython3",
   "version": "3.11.7"
  }
 },
 "nbformat": 4,
 "nbformat_minor": 5
}
