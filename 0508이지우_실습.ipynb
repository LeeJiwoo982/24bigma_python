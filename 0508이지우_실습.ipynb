{
 "cells": [
  {
   "cell_type": "markdown",
   "id": "57362ff9",
   "metadata": {},
   "source": [
    "실행결과를 예측한 후 실행 결과와 비교하시오"
   ]
  },
  {
   "cell_type": "code",
   "execution_count": 1,
   "id": "f12180aa",
   "metadata": {},
   "outputs": [
    {
     "ename": "NameError",
     "evalue": "name 'b' is not defined",
     "output_type": "error",
     "traceback": [
      "\u001b[1;31m---------------------------------------------------------------------------\u001b[0m",
      "\u001b[1;31mNameError\u001b[0m                                 Traceback (most recent call last)",
      "Cell \u001b[1;32mIn[1], line 2\u001b[0m\n\u001b[0;32m      1\u001b[0m a\u001b[38;5;241m=\u001b[39m\u001b[38;5;241m8\u001b[39m\n\u001b[1;32m----> 2\u001b[0m \u001b[38;5;28mprint\u001b[39m(a\u001b[38;5;241m==\u001b[39m\u001b[38;5;241m1\u001b[39m \u001b[38;5;129;01mor\u001b[39;00m b\u001b[38;5;241m==\u001b[39m\u001b[38;5;241m2\u001b[39m)\n\u001b[0;32m      3\u001b[0m \u001b[38;5;28mprint\u001b[39m(a\u001b[38;5;241m==\u001b[39m\u001b[38;5;241m1\u001b[39m \u001b[38;5;129;01mor\u001b[39;00m \u001b[38;5;241m2\u001b[39m)\n",
      "\u001b[1;31mNameError\u001b[0m: name 'b' is not defined"
     ]
    }
   ],
   "source": [
    "a=8\n",
    "print(a==1 or b==2) # b를 선언하지 않음\n",
    "print(a==1 or 2) #둘을 비교연산할 때"
   ]
  },
  {
   "cell_type": "code",
   "execution_count": 2,
   "id": "a5479fb0",
   "metadata": {},
   "outputs": [
    {
     "name": "stdout",
     "output_type": "stream",
     "text": [
      "2\n"
     ]
    }
   ],
   "source": [
    "print(a==1 or 2)"
   ]
  },
  {
   "cell_type": "code",
   "execution_count": 3,
   "id": "e2a43224",
   "metadata": {},
   "outputs": [
    {
     "name": "stdout",
     "output_type": "stream",
     "text": [
      "False True False\n"
     ]
    }
   ],
   "source": [
    "a=(3<4) and (5>6)\n",
    "b=(3<4) or(5>6)\n",
    "c=not(3<4)\n",
    "print(a,b,c)"
   ]
  },
  {
   "cell_type": "code",
   "execution_count": 6,
   "id": "dcf55a44",
   "metadata": {},
   "outputs": [
    {
     "name": "stdout",
     "output_type": "stream",
     "text": [
      "성인입니다.\n"
     ]
    }
   ],
   "source": [
    "age=30\n",
    "if age>=20:\n",
    "    if age>=70:\n",
    "        print('노인입니다.')\n",
    "    else:\n",
    "        print('성인입니다.')"
   ]
  },
  {
   "cell_type": "code",
   "execution_count": 7,
   "id": "c4c123d1",
   "metadata": {},
   "outputs": [],
   "source": [
    "age=30\n",
    "if age>=20:\n",
    "    if age>=70:\n",
    "        print('노인입니다.')\n",
    "else:\n",
    "        print('성인입니다.')\n",
    "#아무것도 출력되지 않음"
   ]
  },
  {
   "cell_type": "code",
   "execution_count": 8,
   "id": "d232fe17",
   "metadata": {},
   "outputs": [
    {
     "name": "stdout",
     "output_type": "stream",
     "text": [
      "노인이 아닙니다.\n"
     ]
    }
   ],
   "source": [
    "age=30\n",
    "if age>=20:\n",
    "    if age>=70:\n",
    "        print('노인입니다.')\n",
    "    else:\n",
    "        print('노인이 아닙니다.')\n",
    "else:\n",
    "        print('성인입니다.')"
   ]
  },
  {
   "cell_type": "code",
   "execution_count": 9,
   "id": "b82a3156",
   "metadata": {},
   "outputs": [
    {
     "name": "stdout",
     "output_type": "stream",
     "text": [
      "15의 배수입니다.\n"
     ]
    }
   ],
   "source": [
    "a=30\n",
    "if a%3==0 and a%5==0:\n",
    "    print('15의 배수입니다.')\n",
    "else:\n",
    "    print('15의 배수가 아닙니다')"
   ]
  },
  {
   "cell_type": "code",
   "execution_count": 11,
   "id": "3875ee7d",
   "metadata": {},
   "outputs": [
    {
     "name": "stdout",
     "output_type": "stream",
     "text": [
      "15의 배수입니다.\n",
      "15의 배수입니다.\n",
      "15의 배수입니다.\n",
      "15의 배수가 아닙니다.\n",
      "15의 배수입니다.\n"
     ]
    }
   ],
   "source": [
    "a=[]\n",
    "a=[0,15,30,40,60]\n",
    "\n",
    "for i in a:\n",
    "    if i%3==0 and i%5==0:\n",
    "        print('15의 배수입니다.')\n",
    "    else: \n",
    "        print('15의 배수가 아닙니다.')"
   ]
  },
  {
   "cell_type": "code",
   "execution_count": 13,
   "id": "02c46ab4",
   "metadata": {},
   "outputs": [
    {
     "name": "stdout",
     "output_type": "stream",
     "text": [
      "100보다 큰 수입니다.\n"
     ]
    }
   ],
   "source": [
    "a=1000\n",
    "if True:\n",
    "    print('100보다 큰 수입니다.')\n",
    "    if False:\n",
    "        print('200보다 큰 수 입니다.')\n",
    "else:\n",
    "    print('100보다 작은 수입니다.')"
   ]
  },
  {
   "cell_type": "markdown",
   "id": "1d31ff56",
   "metadata": {},
   "source": [
    "import문으로 math 모듈을 불러온다\n",
    "점수 10을 전달해서 exp()함수를 계산한다.\n",
    "\n",
    "from---imort문을 이용해서 math모듈과 exp함수를 불러온다\n",
    "점수 10으로 계산"
   ]
  },
  {
   "cell_type": "code",
   "execution_count": 15,
   "id": "f470d63c",
   "metadata": {},
   "outputs": [
    {
     "name": "stdout",
     "output_type": "stream",
     "text": [
      "22026.465794806718\n"
     ]
    }
   ],
   "source": [
    "import math\n",
    "x=10\n",
    "print(math.exp(10))"
   ]
  },
  {
   "cell_type": "code",
   "execution_count": 17,
   "id": "575c2786",
   "metadata": {},
   "outputs": [
    {
     "name": "stdout",
     "output_type": "stream",
     "text": [
      "5 False\n"
     ]
    }
   ],
   "source": [
    "a=5\n",
    "if a%2==0:\n",
    "    a=a-5\n",
    "    c=a*10\n",
    "print(a,c)"
   ]
  },
  {
   "cell_type": "code",
   "execution_count": 18,
   "id": "f1427a96",
   "metadata": {},
   "outputs": [
    {
     "name": "stdout",
     "output_type": "stream",
     "text": [
      "다릅니다\n"
     ]
    }
   ],
   "source": [
    "if 'Hello'=='HELLO':\n",
    "    print('같습니다')\n",
    "else:\n",
    "    print('다릅니다')\n",
    "    #대소문자 구분한다."
   ]
  },
  {
   "cell_type": "code",
   "execution_count": 19,
   "id": "16ae8841",
   "metadata": {},
   "outputs": [
    {
     "name": "stdout",
     "output_type": "stream",
     "text": [
      "A B 입니다.\n"
     ]
    }
   ],
   "source": [
    "a=90\n",
    "if a>=90:\n",
    "    print('A', end=' ')\n",
    "if a>=80:\n",
    "    print('B',end=' ')\n",
    "print('입니다.')"
   ]
  },
  {
   "cell_type": "code",
   "execution_count": 20,
   "id": "ab5c1527",
   "metadata": {},
   "outputs": [
    {
     "name": "stdout",
     "output_type": "stream",
     "text": [
      "A 입니다.\n"
     ]
    }
   ],
   "source": [
    "a=90\n",
    "if a>=90:\n",
    "    print('A', end=' ')\n",
    "elif a>=80:\n",
    "    print('B',end=' ')\n",
    "print('입니다.')"
   ]
  },
  {
   "cell_type": "code",
   "execution_count": 25,
   "id": "82e8b2f9",
   "metadata": {},
   "outputs": [
    {
     "name": "stdout",
     "output_type": "stream",
     "text": [
      "정수 1개를 입력하시오: 0\n",
      "\n",
      "짝수입니다.\n"
     ]
    }
   ],
   "source": [
    "x = int(input('정수 1개를 입력하시오: '))\n",
    "print()\n",
    "\n",
    "if x % 2 == 0:\n",
    "    print('짝수입니다.')\n",
    "else:\n",
    "    print('홀수입니다.')"
   ]
  },
  {
   "cell_type": "code",
   "execution_count": 28,
   "id": "54026117",
   "metadata": {},
   "outputs": [
    {
     "name": "stdout",
     "output_type": "stream",
     "text": [
      "실수 1개를 입력하시오: 3.56\n",
      "\n",
      "3 는 양수입니다.\n"
     ]
    }
   ],
   "source": [
    "y = float(input('실수 1개를 입력하시오: '))\n",
    "print()\n",
    "\n",
    "if y >= 0:\n",
    "    print(int(y),'는 양수입니다.')\n",
    "else:\n",
    "    print(int(y),'는 음수입니다.')"
   ]
  },
  {
   "cell_type": "code",
   "execution_count": 31,
   "id": "f4706155",
   "metadata": {},
   "outputs": [
    {
     "name": "stdout",
     "output_type": "stream",
     "text": [
      "정수 1개를 입력하시오: 4\n",
      "정수 1개를 입력하시오: 7\n",
      "\n",
      "큰 수: 7 \n",
      "작은 수: 4\n"
     ]
    }
   ],
   "source": [
    "x=int(input('정수 1개를 입력하시오: '))\n",
    "y=int(input('정수 1개를 입력하시오: '))\n",
    "print()\n",
    "if x>y:\n",
    "    print('큰 수:',x,'\\n작은 수:',y)\n",
    "elif x<y:\n",
    "    print('큰 수:',y,'\\n작은 수:',x)\n",
    "else:\n",
    "    print('두 수는 같습니다.')"
   ]
  },
  {
   "cell_type": "code",
   "execution_count": 3,
   "id": "751370fe",
   "metadata": {
    "tags": []
   },
   "outputs": [],
   "source": [
    "x=True"
   ]
  },
  {
   "cell_type": "code",
   "execution_count": 5,
   "id": "0bc7e31c-ebf5-424b-9eea-9678b316229b",
   "metadata": {
    "tags": []
   },
   "outputs": [],
   "source": [
    "y=False"
   ]
  },
  {
   "cell_type": "code",
   "execution_count": 7,
   "id": "bb01a12e-671a-4adb-8bd5-be5dbe8e3023",
   "metadata": {
    "tags": []
   },
   "outputs": [
    {
     "data": {
      "text/plain": [
       "False"
      ]
     },
     "execution_count": 7,
     "metadata": {},
     "output_type": "execute_result"
    }
   ],
   "source": [
    "x==y"
   ]
  },
  {
   "cell_type": "code",
   "execution_count": 9,
   "id": "61598d9f-52df-44f2-a45f-c07733e9aa08",
   "metadata": {
    "tags": []
   },
   "outputs": [
    {
     "data": {
      "text/plain": [
       "True"
      ]
     },
     "execution_count": 9,
     "metadata": {},
     "output_type": "execute_result"
    }
   ],
   "source": [
    "x>y"
   ]
  },
  {
   "cell_type": "code",
   "execution_count": 11,
   "id": "2ef5b701-f982-451a-98fc-03440ae1b9e3",
   "metadata": {
    "tags": []
   },
   "outputs": [
    {
     "data": {
      "text/plain": [
       "False"
      ]
     },
     "execution_count": 11,
     "metadata": {},
     "output_type": "execute_result"
    }
   ],
   "source": [
    "x<y"
   ]
  },
  {
   "cell_type": "code",
   "execution_count": 13,
   "id": "4d1cd28b-d3e8-4fa3-8906-cbb656cd8479",
   "metadata": {
    "tags": []
   },
   "outputs": [
    {
     "data": {
      "text/plain": [
       "(True, True, True, False, False, False)"
      ]
     },
     "execution_count": 13,
     "metadata": {},
     "output_type": "execute_result"
    }
   ],
   "source": [
    "i,j=3,5\n",
    "i !=j, i<j,i<=j,i==j,i>j,i>=j"
   ]
  },
  {
   "cell_type": "code",
   "execution_count": 15,
   "id": "ac0542cf-928f-4be7-8f1a-86baa9956829",
   "metadata": {
    "tags": []
   },
   "outputs": [
    {
     "name": "stdout",
     "output_type": "stream",
     "text": [
      "불합격\n",
      "불합격\n",
      "불합격\n",
      "합격\n",
      "합격\n",
      "합격\n",
      "합격\n"
     ]
    }
   ],
   "source": [
    "score=[]\n",
    "score=[40,50,60,70,80,90,100]\n",
    "for i in score:\n",
    "    if i>=70:\n",
    "        print('합격')\n",
    "    else:\n",
    "        print('불합격')"
   ]
  },
  {
   "cell_type": "code",
   "execution_count": 23,
   "id": "d4d08fd4-ff41-40b6-99e3-96484209c8a2",
   "metadata": {
    "tags": []
   },
   "outputs": [
    {
     "name": "stdout",
     "output_type": "stream",
     "text": [
      "70점 이상인 학생은 4 명입니다.\n"
     ]
    }
   ],
   "source": [
    "#append\n",
    "score=[]\n",
    "score=[40,50,60,70,80,90,100]\n",
    "up70=[]\n",
    "for i in score:\n",
    "    if i>=70:\n",
    "        up70.append(i)\n",
    "    else:\n",
    "        pass\n",
    "        \n",
    "print('70점 이상인 학생은',len(up70),'명입니다.')"
   ]
  },
  {
   "cell_type": "code",
   "execution_count": 27,
   "id": "ee40cd82-184e-4162-b675-3ccf104677ce",
   "metadata": {
    "tags": []
   },
   "outputs": [
    {
     "name": "stdout",
     "output_type": "stream",
     "text": [
      "70점 이상인 학생은 4 명입니다.\n"
     ]
    }
   ],
   "source": [
    "#append, sum\n",
    "score=[]\n",
    "score=[40,50,60,70,80,90,100]\n",
    "up70=[]\n",
    "passcount=0\n",
    "for i in score:\n",
    "    if i>=70:\n",
    "        passcount=passcount+1\n",
    "    else:\n",
    "        pass\n",
    "        \n",
    "print('70점 이상인 학생은',passcount,'명입니다.')"
   ]
  },
  {
   "cell_type": "code",
   "execution_count": 31,
   "id": "22b9a90a-81e4-46f9-b913-190408227725",
   "metadata": {
    "tags": []
   },
   "outputs": [
    {
     "name": "stdout",
     "output_type": "stream",
     "text": [
      "4 명입니다.\n"
     ]
    }
   ],
   "source": [
    "#선생님\n",
    "out=[]\n",
    "score=[40,50,60,70,80,90,100]\n",
    "for i in score:\n",
    "    if i >=70:\n",
    "        out.append(1)\n",
    "    else:\n",
    "        out.append(0)\n",
    "        \n",
    "n_sum=sum(out)\n",
    "print(n_sum,'명입니다.')"
   ]
  },
  {
   "cell_type": "code",
   "execution_count": 33,
   "id": "a02fc35e-449b-4f2d-ad81-d9e4d9a8f76a",
   "metadata": {
    "tags": []
   },
   "outputs": [
    {
     "name": "stdout",
     "output_type": "stream",
     "text": [
      "메시\n",
      "음바페\n"
     ]
    }
   ],
   "source": []
  },
  {
   "cell_type": "code",
   "execution_count": 47,
   "id": "ad9351b9-0cb8-45fc-9f76-119ed5824424",
   "metadata": {
    "tags": []
   },
   "outputs": [
    {
     "name": "stdout",
     "output_type": "stream",
     "text": [
      "['메시', '음바페', '네이마르', '산체스', '베리티'] ['공격수', '공격수', '미드필더', '미드필더', '미드필더']\n",
      "공격수는 2 명이고, 미드필더는 3 명입니다.\n"
     ]
    }
   ],
   "source": [
    "sco =['메시','음바페','네이마르','산체스','베리티']\n",
    "pos = []\n",
    "count=[]\n",
    "\n",
    "for v in sco:\n",
    "    if v=='메시' or v=='음바페':\n",
    "        pos.append('공격수')\n",
    "        count.append(1)\n",
    "    else:\n",
    "        pos.append('미드필더')\n",
    "\n",
    "sum_att=sum(count)\n",
    "sum_mid=len(sco)-sum_att\n",
    "print(sco, pos)\n",
    "print('공격수는',sum_att,'명이고, 미드필더는',sum_mid,'명입니다.')"
   ]
  },
  {
   "cell_type": "code",
   "execution_count": 63,
   "id": "4c8a14d3-6593-4717-b413-c63aaeea7fdd",
   "metadata": {
    "tags": []
   },
   "outputs": [
    {
     "name": "stdin",
     "output_type": "stream",
     "text": [
      "체중을 입력하시오(kg):  50\n",
      "키를 입력하시오(m):  1.645\n"
     ]
    },
    {
     "name": "stdout",
     "output_type": "stream",
     "text": [
      "당신의 BMI는 18.48이며, 저체중입니다.\n"
     ]
    }
   ],
   "source": [
    "weight=float(input('체중을 입력하시오(kg): '))\n",
    "height=float(input('키를 입력하시오(m): '))\n",
    "bmi=weight/height**2\n",
    "if bmi<18.5:\n",
    "    print('당신의 BMI는 %.2f이며, 저체중입니다.'%(bmi))\n",
    "elif 18.5<=bmi<23.0:\n",
    "    print('당신의 BMI는 %.2f이며, 정상체중입니다.'%(bmi))\n",
    "elif 23.0<=bmi<25.0:\n",
    "    print('당신의 BMI는 %.2f이며, 과체중입니다.'%(bmi))\n",
    "elif 25.0<=bmi<30.0:\n",
    "    print('당신의 BMI는 %.2f이며, 비만입니다.'%(bmi))\n",
    "else:\n",
    "    print('당신의 BMI는 %.2f이며, 고도비만입니다.'%(bmi))\n",
    "    \n",
    "#고도비만부터 if걸면 코드가 더 깔끔해짐 30<=,25<=,23<=,18.5<=,else"
   ]
  },
  {
   "cell_type": "code",
   "execution_count": 69,
   "id": "034fd275-a0dc-48c0-920f-59ca5b073b1e",
   "metadata": {
    "tags": []
   },
   "outputs": [
    {
     "name": "stdin",
     "output_type": "stream",
     "text": [
      "당신의 점수를 입력하세요:  60\n"
     ]
    },
    {
     "name": "stdout",
     "output_type": "stream",
     "text": [
      "D\n"
     ]
    }
   ],
   "source": [
    "#A90,B80,C70,D60,F\n",
    "score=float(input('당신의 점수를 입력하세요: '))\n",
    "\n",
    "if score>=90:\n",
    "    print('A')\n",
    "elif score>=80:\n",
    "    print('B')\n",
    "elif score>=70:\n",
    "    print('C')\n",
    "elif score>=60:\n",
    "    print('D')\n",
    "else:\n",
    "    print('F')"
   ]
  },
  {
   "cell_type": "code",
   "execution_count": null,
   "id": "0a8906b3-1fe3-4680-b5a3-ee56e7157676",
   "metadata": {},
   "outputs": [],
   "source": []
  }
 ],
 "metadata": {
  "kernelspec": {
   "display_name": "Python 3 (ipykernel)",
   "language": "python",
   "name": "python3"
  },
  "language_info": {
   "codemirror_mode": {
    "name": "ipython",
    "version": 3
   },
   "file_extension": ".py",
   "mimetype": "text/x-python",
   "name": "python",
   "nbconvert_exporter": "python",
   "pygments_lexer": "ipython3",
   "version": "3.11.7"
  }
 },
 "nbformat": 4,
 "nbformat_minor": 5
}
