{
 "cells": [
  {
   "cell_type": "markdown",
   "id": "89b6fc79-d925-4406-9170-dd6835c3bbfe",
   "metadata": {},
   "source": [
    "# 순환문 loop\n",
    "    엔진이 있어야 반복될 수 있다."
   ]
  },
  {
   "cell_type": "code",
   "execution_count": 6,
   "id": "46bb6e7b-4814-47bf-b700-6770bcd3dfe6",
   "metadata": {
    "tags": []
   },
   "outputs": [
    {
     "name": "stdout",
     "output_type": "stream",
     "text": [
      "Hi, Python!\n",
      "Hi, Python!\n",
      "Hi, Python!\n",
      "Hi, Python!\n",
      "Hi, Python!\n"
     ]
    }
   ],
   "source": [
    "x=0\n",
    "while x<5:\n",
    "    print('Hi, Python!')\n",
    "    x+=1"
   ]
  },
  {
   "cell_type": "code",
   "execution_count": 8,
   "id": "5733a841-177d-44c7-b209-601195b4ae10",
   "metadata": {
    "tags": []
   },
   "outputs": [
    {
     "name": "stdout",
     "output_type": "stream",
     "text": [
      "Hello Python\n",
      "Hello Python\n",
      "Hello Python\n",
      "Hello Python\n",
      "Hello Python\n"
     ]
    }
   ],
   "source": [
    "#135\n",
    "x=0\n",
    "while x<5:\n",
    "    print('Hello Python')\n",
    "    x+=1"
   ]
  },
  {
   "cell_type": "code",
   "execution_count": 14,
   "id": "2be71190-0624-433c-9540-f416e0a8bb74",
   "metadata": {
    "tags": []
   },
   "outputs": [
    {
     "name": "stdout",
     "output_type": "stream",
     "text": [
      "15\n"
     ]
    }
   ],
   "source": [
    "#136\n",
    "x=0\n",
    "y=[]\n",
    "while x<5:\n",
    "    x=x+1\n",
    "    y.append(x)\n",
    "    \n",
    "print(sum(y))"
   ]
  },
  {
   "cell_type": "code",
   "execution_count": 22,
   "id": "6ca7dd8b-4931-4e09-955b-26cb4d96bf81",
   "metadata": {
    "tags": []
   },
   "outputs": [
    {
     "name": "stdout",
     "output_type": "stream",
     "text": [
      "15\n"
     ]
    }
   ],
   "source": [
    "x=0\n",
    "sum = 0\n",
    "while x<5:\n",
    "    x += 1\n",
    "    sum += x\n",
    "print(sum)"
   ]
  },
  {
   "cell_type": "code",
   "execution_count": null,
   "id": "23f0fc03-5d96-4eee-91a6-259b855134ac",
   "metadata": {},
   "outputs": [],
   "source": []
  },
  {
   "cell_type": "code",
   "execution_count": 20,
   "id": "067f340d-4883-4d5f-b2ce-c27a74a24bb9",
   "metadata": {
    "tags": []
   },
   "outputs": [
    {
     "name": "stdout",
     "output_type": "stream",
     "text": [
      "2 는 짝수입니다.\n",
      "4 는 짝수입니다.\n"
     ]
    }
   ],
   "source": [
    "a=1\n",
    "while a<6:\n",
    "    if a%2==0:\n",
    "        print(a,'는 짝수입니다.')\n",
    "    a+=1"
   ]
  },
  {
   "cell_type": "code",
   "execution_count": 30,
   "id": "6a0ac744-49c6-4188-979f-d585aa149b22",
   "metadata": {
    "tags": []
   },
   "outputs": [
    {
     "name": "stdout",
     "output_type": "stream",
     "text": [
      "1 는 홀수입니다.\n",
      "3 는 홀수입니다.\n",
      "5 는 홀수입니다.\n",
      "7 는 홀수입니다.\n",
      "9 는 홀수입니다.\n"
     ]
    }
   ],
   "source": [
    "a=1\n",
    "while a<10:\n",
    "    if a % 2 == 1:\n",
    "        print(a,'는 홀수입니다.')\n",
    "    a+=1"
   ]
  },
  {
   "cell_type": "code",
   "execution_count": 32,
   "id": "0332af1c-c11b-48c3-b508-996a8e857e11",
   "metadata": {
    "tags": []
   },
   "outputs": [
    {
     "name": "stdout",
     "output_type": "stream",
     "text": [
      "1부터 10까지 합은 55입니다.\n"
     ]
    }
   ],
   "source": [
    "total = 0\n",
    "i =0\n",
    "while i <10:\n",
    "    i+=1\n",
    "    total += i\n",
    "else:\n",
    "    print('1부터 10까지 합은 %d입니다.'%(total))"
   ]
  },
  {
   "cell_type": "code",
   "execution_count": 36,
   "id": "0e3a853d-68c9-4f45-b7fc-964daf952054",
   "metadata": {
    "tags": []
   },
   "outputs": [
    {
     "name": "stdout",
     "output_type": "stream",
     "text": [
      "1부터 10까지 합은 55입니다.\n"
     ]
    }
   ],
   "source": [
    "total = 0\n",
    "i =0\n",
    "while i <10:\n",
    "    i+=1\n",
    "    total += i\n",
    "print('1부터 10까지 합은 %d입니다.'%(total))"
   ]
  },
  {
   "cell_type": "code",
   "execution_count": 42,
   "id": "f6dcf488-ba7e-40e8-a775-05322415acce",
   "metadata": {
    "tags": []
   },
   "outputs": [
    {
     "name": "stdout",
     "output_type": "stream",
     "text": [
      "리스트에 들어 있는 숫자의 합은 55입니다.\n"
     ]
    }
   ],
   "source": [
    "integers = [2,8,3,5,10,27]\n",
    "total=0\n",
    "i=0\n",
    "while i <len(integers):\n",
    "    total += integers[i]\n",
    "    i+= 1\n",
    "else:\n",
    "    print('리스트에 들어 있는 숫자의 합은 %d입니다.'%(total))"
   ]
  },
  {
   "cell_type": "code",
   "execution_count": 48,
   "id": "5d12756c-e097-4b6e-b799-2e0ee7c038d0",
   "metadata": {
    "tags": []
   },
   "outputs": [
    {
     "name": "stdout",
     "output_type": "stream",
     "text": [
      "3 2\n"
     ]
    }
   ],
   "source": [
    "i=1\n",
    "j=1\n",
    "i+=2\n",
    "j+=1\n",
    "print(i,j)"
   ]
  },
  {
   "cell_type": "code",
   "execution_count": 56,
   "id": "1914f9e9-2990-4315-94d7-d651f574623d",
   "metadata": {
    "tags": []
   },
   "outputs": [
    {
     "name": "stdout",
     "output_type": "stream",
     "text": [
      "안녕? 나는 두더지~ 땅굴의 전문가지!\n",
      "나는 1~3번 사이 땅굴에 숨어 있을게!\n",
      "내가 숨은 곳을 찾아봐~\n",
      "\n"
     ]
    },
    {
     "name": "stdin",
     "output_type": "stream",
     "text": [
      "두더지가 있는 땅굴 번호를 맞춰봐!(1~3):  1\n"
     ]
    },
    {
     "name": "stdout",
     "output_type": "stream",
     "text": [
      "나를 찾았군! 잘했다.\n",
      "\n"
     ]
    },
    {
     "name": "stdin",
     "output_type": "stream",
     "text": [
      "두더지가 있는 땅굴 번호를 맞춰봐!(1~3):  1\n"
     ]
    },
    {
     "name": "stdout",
     "output_type": "stream",
     "text": [
      "ㅋㅋ 틀렸어! 난, 3 에 있어\n",
      "\n"
     ]
    },
    {
     "name": "stdin",
     "output_type": "stream",
     "text": [
      "두더지가 있는 땅굴 번호를 맞춰봐!(1~3):  1\n"
     ]
    },
    {
     "name": "stdout",
     "output_type": "stream",
     "text": [
      "ㅋㅋ 틀렸어! 난, 2 에 있어\n",
      "\n",
      "총 3 번 중에, 1 번 맞췄어!\n"
     ]
    }
   ],
   "source": [
    "# 두더지 게임\n",
    "import random\n",
    "print('안녕? 나는 두더지~ 땅굴의 전문가지!')\n",
    "print('나는 1~3번 사이 땅굴에 숨어 있을게!')\n",
    "print('내가 숨은 곳을 찾아봐~')\n",
    "\n",
    "hit, trial, maxTrial = 0,0,3\n",
    "\n",
    "while trial < maxTrial:\n",
    "    print()\n",
    "    burrow=random.randint(1,3)\n",
    "    guess = int(input('두더지가 있는 땅굴 번호를 맞춰봐!(1~3): '))\n",
    "    trial += 1\n",
    "    if burrow == guess :\n",
    "        hit += 1\n",
    "        print('나를 찾았군! 잘했다.')\n",
    "    else:\n",
    "        print('ㅋㅋ 틀렸어! 난,',burrow,'에 있어')\n",
    "    \n",
    "print()\n",
    "print('총',maxTrial,'번 중에,',hit,'번 맞췄어!')"
   ]
  },
  {
   "cell_type": "code",
   "execution_count": 58,
   "id": "8e2f4572-b8db-4dac-b03d-84deda706668",
   "metadata": {
    "tags": []
   },
   "outputs": [
    {
     "ename": "SyntaxError",
     "evalue": "invalid syntax (153208073.py, line 3)",
     "output_type": "error",
     "traceback": [
      "\u001b[1;36m  Cell \u001b[1;32mIn[58], line 3\u001b[1;36m\u001b[0m\n\u001b[1;33m    if :\u001b[0m\n\u001b[1;37m       ^\u001b[0m\n\u001b[1;31mSyntaxError\u001b[0m\u001b[1;31m:\u001b[0m invalid syntax\n"
     ]
    }
   ],
   "source": [
    "# 무한 while\n",
    "while True:\n",
    "    if :\n",
    "        \n",
    "        break"
   ]
  },
  {
   "cell_type": "code",
   "execution_count": null,
   "id": "961c1d78-395d-44f3-8e2e-e7990067ac74",
   "metadata": {},
   "outputs": [],
   "source": [
    "# 중첩 while\n",
    "while :\n",
    "    \n",
    "    while :\n",
    "        "
   ]
  },
  {
   "cell_type": "code",
   "execution_count": null,
   "id": "cc16232a-2e0b-4490-9069-bbe36524d49c",
   "metadata": {
    "tags": []
   },
   "outputs": [
    {
     "name": "stdout",
     "output_type": "stream",
     "text": [
      "가위~ 바위~ 보~!!!\n",
      "3판 다승제 가위바위보!!\n",
      "\n",
      "삼세판 합시다!\n",
      "--------------------------------------------------\n"
     ]
    }
   ],
   "source": [
    "import random\n",
    "print('가위~','바위~','보~!!!')\n",
    "print('3판 다승제 가위바위보!!')\n",
    "\n",
    "while True:\n",
    "    print()\n",
    "    print('삼세판 합시다!')\n",
    "    cnt, cnt_userWin, cnt_comWin=0,0,0\n",
    "    \n",
    "    while cnt<3:\n",
    "        print('-'*50)\n",
    "        \n",
    "        yourHand=input('가위!바위!보! 중 하나를 골라!')\n",
    "        \n",
    "        comRandom=random.randint(1,3)\n",
    "        if comRandom == 1 :\n",
    "            comHand = '가위'\n",
    "        elif comRandom == 2 :\n",
    "            comHand = '바위'\n",
    "        else :\n",
    "            comHand = '보'\n",
    "\n",
    "#승자판단\n",
    "        #컴퓨터 승\n",
    "        if ((comHand=='가위' and yourHand=='보') or (comHand=='바위' and yourHand=='가위') or (comHand=='보' and yourHand=='바위')):\n",
    "            winner='컴퓨터'\n",
    "            \n",
    "        #유저 승\n",
    "        elif ((comHand=='가위' and yourHand=='바위') or (comHand=='바위' and yourHand=='보') or (comHand=='보' and yourHand=='가위')):\n",
    "            winner='당신'\n",
    "            \n",
    "        #비김\n",
    "        else:\n",
    "            winner='비김'\n",
    "        \n",
    "        \n",
    "        if winner=='당신':\n",
    "            print('당신 이김!(You:',yourHand,', comHand:',comHand,')')\n",
    "            cnt_userWin += 1\n",
    "        elif winner=='컴퓨터':\n",
    "            print('컴퓨터 이김!(You:',yourHand,', comHand:',comHand,')')\n",
    "            cnt_comWin += 1\n",
    "        else:\n",
    "            print('무승부~(You:',yourHand,', comHand:',comHand,')')\n",
    "        \n",
    "        cnt += 1\n",
    "        \n",
    "    print('-'*50)\n",
    "        \n",
    "        # 3판 다승제 승자 결정\n",
    "    print()\n",
    "        \n",
    "    if cnt_userWin > cnt_comWin:\n",
    "        print('>>>당신이 최종승리<<<')\n",
    "    elif cnt_userWin < cnt_comWin:\n",
    "        print('>>>컴퓨터가 최종승리<<<')\n",
    "    else:\n",
    "        print('>>>무승부<<<')\n",
    "            \n",
    "    print()\n",
    "        \n",
    "        # 가위바위보 반복 실행 여부 결정\n",
    "    if input('그만하시겠습니까? (y/n) ') == 'y':\n",
    "        break"
   ]
  },
  {
   "cell_type": "code",
   "execution_count": 92,
   "id": "67020429-d99d-456c-9f1a-b5942dfe40f4",
   "metadata": {},
   "outputs": [
    {
     "name": "stdout",
     "output_type": "stream",
     "text": [
      "You are in my heart\n",
      "Oh My God!\n"
     ]
    }
   ],
   "source": [
    "while True:\n",
    "    print('You are in my heart')\n",
    "    break\n",
    "print('Oh My God!')"
   ]
  },
  {
   "cell_type": "code",
   "execution_count": 94,
   "id": "9d295bd4-76bf-4cae-8f34-ea13401baf5f",
   "metadata": {},
   "outputs": [
    {
     "name": "stdout",
     "output_type": "stream",
     "text": [
      "무한반복\n"
     ]
    }
   ],
   "source": [
    "while True:\n",
    "    print('무한반복')\n",
    "    break"
   ]
  },
  {
   "cell_type": "code",
   "execution_count": 96,
   "id": "48b9957a-fd6e-410b-85f7-7514b0353af1",
   "metadata": {},
   "outputs": [
    {
     "name": "stdout",
     "output_type": "stream",
     "text": [
      "1 * 1 = 1\n",
      "1 * 2 = 2\n",
      "1 * 3 = 3\n",
      "2 * 1 = 2\n",
      "2 * 2 = 4\n",
      "2 * 3 = 6\n"
     ]
    }
   ],
   "source": [
    "a=1\n",
    "while a<=2:\n",
    "    b=1\n",
    "    while b<=3:\n",
    "        print(a,'*',b,'=',a*b)\n",
    "        b+=1\n",
    "    a+=1"
   ]
  },
  {
   "cell_type": "code",
   "execution_count": 102,
   "id": "ba402504-072b-45f2-a8b7-0e01af5709f7",
   "metadata": {
    "tags": []
   },
   "outputs": [
    {
     "name": "stdout",
     "output_type": "stream",
     "text": [
      "당신은 참 좋은 사람입니다.\n",
      "당신은 참 좋은 사람입니다.\n",
      "당신은 참 좋은 사람입니다.\n",
      "당신은 참 좋은 사람입니다.\n",
      "감사합니다\n"
     ]
    }
   ],
   "source": [
    "cnt=1\n",
    "while True:\n",
    "    print('당신은 참 좋은 사람입니다.')\n",
    "    if cnt>3:\n",
    "        break\n",
    "    cnt+=1\n",
    "print('감사합니다')"
   ]
  },
  {
   "cell_type": "code",
   "execution_count": 104,
   "id": "b616d907-efea-4ecf-908f-09c9acdf8af6",
   "metadata": {
    "tags": []
   },
   "outputs": [
    {
     "name": "stdout",
     "output_type": "stream",
     "text": [
      "1 3\n",
      "2 3\n",
      "3 3\n",
      "3 2\n"
     ]
    }
   ],
   "source": [
    "a = 1\n",
    "b = 3\n",
    "while True:\n",
    "    print(a,b)\n",
    "    if a==b:\n",
    "        break\n",
    "    a+=1\n",
    "b = b-1\n",
    "print(a,b)"
   ]
  },
  {
   "cell_type": "code",
   "execution_count": 106,
   "id": "bfb91e74-d543-4443-a462-69cd3f74c018",
   "metadata": {
    "tags": []
   },
   "outputs": [
    {
     "name": "stdout",
     "output_type": "stream",
     "text": [
      "1 1\n",
      "2 1\n",
      "2 2\n",
      "3 1\n",
      "3 2\n",
      "3 3\n"
     ]
    }
   ],
   "source": [
    "num1=1\n",
    "while num1<=3:\n",
    "    num2=1\n",
    "    while True:\n",
    "        print(num1,num2)\n",
    "        if num1 == num2:\n",
    "            break\n",
    "        num2+=1\n",
    "    num1+=1"
   ]
  },
  {
   "cell_type": "code",
   "execution_count": 108,
   "id": "5de66d2a-eab9-438e-a172-3d4daef8ac8c",
   "metadata": {
    "tags": []
   },
   "outputs": [
    {
     "name": "stdout",
     "output_type": "stream",
     "text": [
      "3 2 1\n"
     ]
    }
   ],
   "source": [
    "cnt=1\n",
    "while cnt<3:\n",
    "    num=1\n",
    "    sum=0\n",
    "    while num<cnt:\n",
    "        sum+=num\n",
    "        num+=1\n",
    "    cnt+=1\n",
    "print(cnt,num,sum)"
   ]
  },
  {
   "cell_type": "code",
   "execution_count": 110,
   "id": "4a742e60-6ef1-4fb7-a035-a34e8aa74652",
   "metadata": {
    "tags": []
   },
   "outputs": [
    {
     "name": "stdout",
     "output_type": "stream",
     "text": [
      "4 3 3\n"
     ]
    }
   ],
   "source": [
    "cnt=1\n",
    "while cnt<4:\n",
    "    num=1\n",
    "    sum=0\n",
    "    while num<cnt:\n",
    "        sum+=num\n",
    "        num+=1\n",
    "    cnt+=1\n",
    "print(cnt,num,sum)"
   ]
  },
  {
   "cell_type": "code",
   "execution_count": 128,
   "id": "4fb104cd-78dd-4717-bb7a-4f9f319595ce",
   "metadata": {
    "tags": []
   },
   "outputs": [
    {
     "name": "stdout",
     "output_type": "stream",
     "text": [
      "     *     \n",
      "    ***    \n",
      "   *****   \n",
      "  *******  \n",
      " ********* \n"
     ]
    }
   ],
   "source": [
    "# while문을 이용해서 피라미드 모형 출력하는 프로그램을 작성하시오\n",
    "\n",
    "while True:\n",
    "    s=1\n",
    "    e=4\n",
    "    \n",
    "    while s<=9:\n",
    "        print(' '*e,'*'*s,' '*e)\n",
    "        s+=2\n",
    "        e=e-1\n",
    "    break\n",
    "\n",
    "    \n",
    "# ********* 9\n",
    "#  *******  7\n",
    "#   *****   5\n",
    "#    ***    3\n",
    "#     *     1"
   ]
  },
  {
   "cell_type": "code",
   "execution_count": null,
   "id": "7942bd75-af65-4b4d-937f-810ba9055ec5",
   "metadata": {},
   "outputs": [],
   "source": []
  }
 ],
 "metadata": {
  "kernelspec": {
   "display_name": "Python 3 (ipykernel)",
   "language": "python",
   "name": "python3"
  },
  "language_info": {
   "codemirror_mode": {
    "name": "ipython",
    "version": 3
   },
   "file_extension": ".py",
   "mimetype": "text/x-python",
   "name": "python",
   "nbconvert_exporter": "python",
   "pygments_lexer": "ipython3",
   "version": "3.11.7"
  }
 },
 "nbformat": 4,
 "nbformat_minor": 5
}
